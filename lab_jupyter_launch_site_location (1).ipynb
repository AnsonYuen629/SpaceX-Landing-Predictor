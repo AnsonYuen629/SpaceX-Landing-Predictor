{
  "metadata": {
    "kernelspec": {
      "name": "python",
      "display_name": "Python (Pyodide)",
      "language": "python"
    },
    "language_info": {
      "codemirror_mode": {
        "name": "python",
        "version": 3
      },
      "file_extension": ".py",
      "mimetype": "text/x-python",
      "name": "python",
      "nbconvert_exporter": "python",
      "pygments_lexer": "ipython3",
      "version": "3.8"
    },
    "prev_pub_hash": "0f9db842b41c859223722809f8be602f5df9334348bd206b11e3af58c30eb345"
  },
  "nbformat_minor": 4,
  "nbformat": 4,
  "cells": [
    {
      "cell_type": "markdown",
      "source": "<p style=\"text-align:center\">\n    <a href=\"https://skills.network/?utm_medium=Exinfluencer&utm_source=Exinfluencer&utm_content=000026UJ&utm_term=10006555&utm_id=NA-SkillsNetwork-Channel-SkillsNetworkCoursesIBMDS0321ENSkillsNetwork26802033-2022-01-01\" target=\"_blank\">\n    <img src=\"https://cf-courses-data.s3.us.cloud-object-storage.appdomain.cloud/assets/logos/SN_web_lightmode.png\" width=\"200\" alt=\"Skills Network Logo\">\n    </a>\n</p>\n",
      "metadata": {}
    },
    {
      "cell_type": "markdown",
      "source": "# **Hands-on Lab: Interactive Visual Analytics with Folium**\n",
      "metadata": {}
    },
    {
      "cell_type": "markdown",
      "source": "Estimated time needed: **40** minutes\n",
      "metadata": {}
    },
    {
      "cell_type": "markdown",
      "source": "The launch success rate may depend on many factors such as payload mass, orbit type, and so on. It may also depend on the location and proximities of a launch site, i.e., the initial position of rocket trajectories. Finding an optimal location for building a launch site certainly involves many factors and hopefully we could discover some of the factors by analyzing the existing launch site locations.\n",
      "metadata": {}
    },
    {
      "cell_type": "markdown",
      "source": "In the previous exploratory data analysis labs, you have visualized the SpaceX launch dataset using `matplotlib` and `seaborn` and discovered some preliminary correlations between the launch site and success rates. In this lab, you will be performing more interactive visual analytics using `Folium`.\n",
      "metadata": {}
    },
    {
      "cell_type": "markdown",
      "source": "## Objectives\n",
      "metadata": {}
    },
    {
      "cell_type": "markdown",
      "source": "This lab contains the following tasks:\n\n*   **TASK 1:** Mark all launch sites on a map\n*   **TASK 2:** Mark the success/failed launches for each site on the map\n*   **TASK 3:** Calculate the distances between a launch site to its proximities\n\nAfter completed the above tasks, you should be able to find some geographical patterns about launch sites.\n",
      "metadata": {}
    },
    {
      "cell_type": "markdown",
      "source": "Let's first import required Python packages for this lab:\n",
      "metadata": {}
    },
    {
      "cell_type": "code",
      "source": "import piplite\nawait piplite.install(['folium'])\nawait piplite.install(['pandas'])",
      "metadata": {
        "trusted": true
      },
      "outputs": [],
      "execution_count": 2
    },
    {
      "cell_type": "code",
      "source": "import folium\nimport pandas as pd",
      "metadata": {
        "trusted": true
      },
      "outputs": [],
      "execution_count": 3
    },
    {
      "cell_type": "code",
      "source": "# Import folium MarkerCluster plugin\nfrom folium.plugins import MarkerCluster\n# Import folium MousePosition plugin\nfrom folium.plugins import MousePosition\n# Import folium DivIcon plugin\nfrom folium.features import DivIcon",
      "metadata": {
        "trusted": true
      },
      "outputs": [],
      "execution_count": 4
    },
    {
      "cell_type": "markdown",
      "source": "If you need to refresh your memory about folium, you may download and refer to this previous folium lab:\n",
      "metadata": {}
    },
    {
      "cell_type": "markdown",
      "source": "[Generating Maps with Python](https://cf-courses-data.s3.us.cloud-object-storage.appdomain.cloud/IBMDeveloperSkillsNetwork-DV0101EN-SkillsNetwork/labs/v4/DV0101EN-Exercise-Generating-Maps-in-Python.ipynb)\n",
      "metadata": {}
    },
    {
      "cell_type": "code",
      "source": "## Task 1: Mark all launch sites on a map\n",
      "metadata": {},
      "outputs": [],
      "execution_count": null
    },
    {
      "cell_type": "markdown",
      "source": "First, let's try to add each site's location on a map using site's latitude and longitude coordinates\n",
      "metadata": {}
    },
    {
      "cell_type": "markdown",
      "source": "The following dataset with the name `spacex_launch_geo.csv` is an augmented dataset with latitude and longitude added for each site.\n",
      "metadata": {}
    },
    {
      "cell_type": "code",
      "source": "# Download and read the `spacex_launch_geo.csv`\nfrom js import fetch\nimport io\n\nURL = 'https://cf-courses-data.s3.us.cloud-object-storage.appdomain.cloud/IBM-DS0321EN-SkillsNetwork/datasets/spacex_launch_geo.csv'\nresp = await fetch(URL)\nspacex_csv_file = io.BytesIO((await resp.arrayBuffer()).to_py())\nspacex_df=pd.read_csv(spacex_csv_file)",
      "metadata": {
        "trusted": true
      },
      "outputs": [],
      "execution_count": 5
    },
    {
      "cell_type": "markdown",
      "source": "Now, you can take a look at what are the coordinates for each site.\n",
      "metadata": {}
    },
    {
      "cell_type": "code",
      "source": "# Select relevant sub-columns: `Launch Site`, `Lat(Latitude)`, `Long(Longitude)`, `class`\nspacex_df = spacex_df[['Launch Site', 'Lat', 'Long', 'class']]\nlaunch_sites_df = spacex_df.groupby(['Launch Site'], as_index=False).first()\nlaunch_sites_df = launch_sites_df[['Launch Site', 'Lat', 'Long']]\nlaunch_sites_df",
      "metadata": {
        "trusted": true,
        "scrolled": true
      },
      "outputs": [
        {
          "execution_count": 6,
          "output_type": "execute_result",
          "data": {
            "text/plain": "    Launch Site        Lat        Long\n0   CCAFS LC-40  28.562302  -80.577356\n1  CCAFS SLC-40  28.563197  -80.576820\n2    KSC LC-39A  28.573255  -80.646895\n3   VAFB SLC-4E  34.632834 -120.610745",
            "text/html": "<div>\n<style scoped>\n    .dataframe tbody tr th:only-of-type {\n        vertical-align: middle;\n    }\n\n    .dataframe tbody tr th {\n        vertical-align: top;\n    }\n\n    .dataframe thead th {\n        text-align: right;\n    }\n</style>\n<table border=\"1\" class=\"dataframe\">\n  <thead>\n    <tr style=\"text-align: right;\">\n      <th></th>\n      <th>Launch Site</th>\n      <th>Lat</th>\n      <th>Long</th>\n    </tr>\n  </thead>\n  <tbody>\n    <tr>\n      <th>0</th>\n      <td>CCAFS LC-40</td>\n      <td>28.562302</td>\n      <td>-80.577356</td>\n    </tr>\n    <tr>\n      <th>1</th>\n      <td>CCAFS SLC-40</td>\n      <td>28.563197</td>\n      <td>-80.576820</td>\n    </tr>\n    <tr>\n      <th>2</th>\n      <td>KSC LC-39A</td>\n      <td>28.573255</td>\n      <td>-80.646895</td>\n    </tr>\n    <tr>\n      <th>3</th>\n      <td>VAFB SLC-4E</td>\n      <td>34.632834</td>\n      <td>-120.610745</td>\n    </tr>\n  </tbody>\n</table>\n</div>"
          },
          "metadata": {}
        }
      ],
      "execution_count": 6
    },
    {
      "cell_type": "markdown",
      "source": "Above coordinates are just plain numbers that can not give you any intuitive insights about where are those launch sites. If you are very good at geography, you can interpret those numbers directly in your mind. If not, that's fine too. Let's visualize those locations by pinning them on a map.\n",
      "metadata": {}
    },
    {
      "cell_type": "markdown",
      "source": "We first need to create a folium `Map` object, with an initial center location to be NASA Johnson Space Center at Houston, Texas.\n",
      "metadata": {}
    },
    {
      "cell_type": "code",
      "source": "# Start location is NASA Johnson Space Center\nnasa_coordinate = [29.559684888503615, -95.0830971930759]\nsite_map = folium.Map(location=nasa_coordinate, zoom_start=10)",
      "metadata": {
        "trusted": true
      },
      "outputs": [],
      "execution_count": 7
    },
    {
      "cell_type": "markdown",
      "source": "We could use `folium.Circle` to add a highlighted circle area with a text label on a specific coordinate. For example,\n",
      "metadata": {}
    },
    {
      "cell_type": "code",
      "source": "# Create a blue circle at NASA Johnson Space Center's coordinate with a popup label showing its name\ncircle = folium.Circle(nasa_coordinate, radius=1000, color='#d35400', fill=True).add_child(folium.Popup('NASA Johnson Space Center'))\n# Create a blue circle at NASA Johnson Space Center's coordinate with a icon showing its name\nmarker = folium.map.Marker(\n    nasa_coordinate,\n    # Create an icon as a text label\n    icon=DivIcon(\n        icon_size=(20,20),\n        icon_anchor=(0,0),\n        html='<div style=\"font-size: 12; color:#d35400;\"><b>%s</b></div>' % 'NASA JSC',\n        )\n    )\nsite_map.add_child(circle)\nsite_map.add_child(marker)",
      "metadata": {
        "trusted": true,
        "scrolled": true
      },
      "outputs": [
        {
          "execution_count": 8,
          "output_type": "execute_result",
          "data": {
            "text/plain": "<folium.folium.Map at 0x5fd09a8>",
            "text/html": "<div style=\"width:100%;\"><div style=\"position:relative;width:100%;height:0;padding-bottom:60%;\"><span style=\"color:#565656\">Make this Notebook Trusted to load map: File -> Trust Notebook</span><iframe srcdoc=\"&lt;!DOCTYPE html&gt;\n&lt;html&gt;\n&lt;head&gt;\n    \n    &lt;meta http-equiv=&quot;content-type&quot; content=&quot;text/html; charset=UTF-8&quot; /&gt;\n    &lt;script src=&quot;https://cdn.jsdelivr.net/npm/leaflet@1.9.3/dist/leaflet.js&quot;&gt;&lt;/script&gt;\n    &lt;script src=&quot;https://code.jquery.com/jquery-3.7.1.min.js&quot;&gt;&lt;/script&gt;\n    &lt;script src=&quot;https://cdn.jsdelivr.net/npm/bootstrap@5.2.2/dist/js/bootstrap.bundle.min.js&quot;&gt;&lt;/script&gt;\n    &lt;script src=&quot;https://cdnjs.cloudflare.com/ajax/libs/Leaflet.awesome-markers/2.0.2/leaflet.awesome-markers.js&quot;&gt;&lt;/script&gt;\n    &lt;link rel=&quot;stylesheet&quot; href=&quot;https://cdn.jsdelivr.net/npm/leaflet@1.9.3/dist/leaflet.css&quot;/&gt;\n    &lt;link rel=&quot;stylesheet&quot; href=&quot;https://cdn.jsdelivr.net/npm/bootstrap@5.2.2/dist/css/bootstrap.min.css&quot;/&gt;\n    &lt;link rel=&quot;stylesheet&quot; href=&quot;https://netdna.bootstrapcdn.com/bootstrap/3.0.0/css/bootstrap-glyphicons.css&quot;/&gt;\n    &lt;link rel=&quot;stylesheet&quot; href=&quot;https://cdn.jsdelivr.net/npm/@fortawesome/fontawesome-free@6.2.0/css/all.min.css&quot;/&gt;\n    &lt;link rel=&quot;stylesheet&quot; href=&quot;https://cdnjs.cloudflare.com/ajax/libs/Leaflet.awesome-markers/2.0.2/leaflet.awesome-markers.css&quot;/&gt;\n    &lt;link rel=&quot;stylesheet&quot; href=&quot;https://cdn.jsdelivr.net/gh/python-visualization/folium/folium/templates/leaflet.awesome.rotate.min.css&quot;/&gt;\n    \n            &lt;meta name=&quot;viewport&quot; content=&quot;width=device-width,\n                initial-scale=1.0, maximum-scale=1.0, user-scalable=no&quot; /&gt;\n            &lt;style&gt;\n                #map_3e0f4f8d23f7f95d852efe077ed340eb {\n                    position: relative;\n                    width: 100.0%;\n                    height: 100.0%;\n                    left: 0.0%;\n                    top: 0.0%;\n                }\n                .leaflet-container { font-size: 1rem; }\n            &lt;/style&gt;\n\n            &lt;style&gt;html, body {\n                width: 100%;\n                height: 100%;\n                margin: 0;\n                padding: 0;\n            }\n            &lt;/style&gt;\n\n            &lt;style&gt;#map {\n                position:absolute;\n                top:0;\n                bottom:0;\n                right:0;\n                left:0;\n                }\n            &lt;/style&gt;\n\n            &lt;script&gt;\n                L_NO_TOUCH = false;\n                L_DISABLE_3D = false;\n            &lt;/script&gt;\n\n        \n&lt;/head&gt;\n&lt;body&gt;\n    \n    \n            &lt;div class=&quot;folium-map&quot; id=&quot;map_3e0f4f8d23f7f95d852efe077ed340eb&quot; &gt;&lt;/div&gt;\n        \n&lt;/body&gt;\n&lt;script&gt;\n    \n    \n            var map_3e0f4f8d23f7f95d852efe077ed340eb = L.map(\n                &quot;map_3e0f4f8d23f7f95d852efe077ed340eb&quot;,\n                {\n                    center: [29.559684888503615, -95.0830971930759],\n                    crs: L.CRS.EPSG3857,\n                    ...{\n  &quot;zoom&quot;: 10,\n  &quot;zoomControl&quot;: true,\n  &quot;preferCanvas&quot;: false,\n}\n\n                }\n            );\n\n            \n\n        \n    \n            var tile_layer_6da165c280609629f5f12d53de289ffe = L.tileLayer(\n                &quot;https://tile.openstreetmap.org/{z}/{x}/{y}.png&quot;,\n                {\n  &quot;minZoom&quot;: 0,\n  &quot;maxZoom&quot;: 19,\n  &quot;maxNativeZoom&quot;: 19,\n  &quot;noWrap&quot;: false,\n  &quot;attribution&quot;: &quot;\\u0026copy; \\u003ca href=\\&quot;https://www.openstreetmap.org/copyright\\&quot;\\u003eOpenStreetMap\\u003c/a\\u003e contributors&quot;,\n  &quot;subdomains&quot;: &quot;abc&quot;,\n  &quot;detectRetina&quot;: false,\n  &quot;tms&quot;: false,\n  &quot;opacity&quot;: 1,\n}\n\n            );\n        \n    \n            tile_layer_6da165c280609629f5f12d53de289ffe.addTo(map_3e0f4f8d23f7f95d852efe077ed340eb);\n        \n    \n            var circle_b418108b1f3f1ac3bd674fb4394a8792 = L.circle(\n                [29.559684888503615, -95.0830971930759],\n                {&quot;bubblingMouseEvents&quot;: true, &quot;color&quot;: &quot;#d35400&quot;, &quot;dashArray&quot;: null, &quot;dashOffset&quot;: null, &quot;fill&quot;: true, &quot;fillColor&quot;: &quot;#d35400&quot;, &quot;fillOpacity&quot;: 0.2, &quot;fillRule&quot;: &quot;evenodd&quot;, &quot;lineCap&quot;: &quot;round&quot;, &quot;lineJoin&quot;: &quot;round&quot;, &quot;opacity&quot;: 1.0, &quot;radius&quot;: 1000, &quot;stroke&quot;: true, &quot;weight&quot;: 3}\n            ).addTo(map_3e0f4f8d23f7f95d852efe077ed340eb);\n        \n    \n        var popup_204a467a065149085580692e8e4d31b5 = L.popup({\n  &quot;maxWidth&quot;: &quot;100%&quot;,\n});\n\n        \n            \n                var html_313b362fe537f462f85557bb8183882b = $(`&lt;div id=&quot;html_313b362fe537f462f85557bb8183882b&quot; style=&quot;width: 100.0%; height: 100.0%;&quot;&gt;NASA Johnson Space Center&lt;/div&gt;`)[0];\n                popup_204a467a065149085580692e8e4d31b5.setContent(html_313b362fe537f462f85557bb8183882b);\n            \n        \n\n        circle_b418108b1f3f1ac3bd674fb4394a8792.bindPopup(popup_204a467a065149085580692e8e4d31b5)\n        ;\n\n        \n    \n    \n            var marker_b0a12e1415689304e25540d5411f3dc6 = L.marker(\n                [29.559684888503615, -95.0830971930759],\n                {\n}\n            ).addTo(map_3e0f4f8d23f7f95d852efe077ed340eb);\n        \n    \n            var div_icon_094857a31be57845340d6c2102e89eff = L.divIcon({\n  &quot;html&quot;: &quot;\\u003cdiv style=\\&quot;font-size: 12; color:#d35400;\\&quot;\\u003e\\u003cb\\u003eNASA JSC\\u003c/b\\u003e\\u003c/div\\u003e&quot;,\n  &quot;iconSize&quot;: [20, 20],\n  &quot;iconAnchor&quot;: [0, 0],\n  &quot;className&quot;: &quot;empty&quot;,\n});\n        \n    \n                marker_b0a12e1415689304e25540d5411f3dc6.setIcon(div_icon_094857a31be57845340d6c2102e89eff);\n            \n&lt;/script&gt;\n&lt;/html&gt;\" style=\"position:absolute;width:100%;height:100%;left:0;top:0;border:none !important;\" allowfullscreen webkitallowfullscreen mozallowfullscreen></iframe></div></div>"
          },
          "metadata": {}
        }
      ],
      "execution_count": 8
    },
    {
      "cell_type": "markdown",
      "source": "and you should find a small yellow circle near the city of Houston and you can zoom-in to see a larger circle.\n",
      "metadata": {}
    },
    {
      "cell_type": "markdown",
      "source": "Now, let's add a circle for each launch site in data frame `launch_sites`\n",
      "metadata": {}
    },
    {
      "cell_type": "markdown",
      "source": "*TODO:*  Create and add `folium.Circle` and `folium.Marker` for each launch site on the site map\n",
      "metadata": {}
    },
    {
      "cell_type": "markdown",
      "source": "An example of folium.Circle:\n",
      "metadata": {}
    },
    {
      "cell_type": "markdown",
      "source": "`folium.Circle(coordinate, radius=1000, color='#000000', fill=True).add_child(folium.Popup(...))`\n",
      "metadata": {}
    },
    {
      "cell_type": "markdown",
      "source": "An example of folium.Marker:\n",
      "metadata": {}
    },
    {
      "cell_type": "markdown",
      "source": "`folium.map.Marker(coordinate, icon=DivIcon(icon_size=(20,20),icon_anchor=(0,0), html='<div style=\"font-size: 12; color:#d35400;\"><b>%s</b></div>' % 'label', ))`\n",
      "metadata": {}
    },
    {
      "cell_type": "code",
      "source": "# Initial the map\nsite_map = folium.Map(location=nasa_coordinate, zoom_start=5)\n# For each launch site, add a Circle object based on its coordinate (Lat, Long) values. In addition, add Launch site name as a popup label\nfor index, site in launch_sites_df.iterrows():\n    circle = folium.Circle([site['Lat'], site['Long']], radius=1000, color='#d35400', fill=True\n                            ).add_child(folium.Popup(site['Launch Site']))\n    \n    marker = folium.map.Marker([site['Lat'], site['Long']], icon=DivIcon(icon_size=(20,20), icon_anchor=(0,0),\n                                html='<div style=\"font-size: 12; color:#d35400;\"><b>%s</b></div>' % site['Launch Site']))\n    \n    site_map.add_child(circle)\n    site_map.add_child(marker)\n\n\nsite_map\n",
      "metadata": {
        "trusted": true
      },
      "outputs": [
        {
          "execution_count": 10,
          "output_type": "execute_result",
          "data": {
            "text/plain": "<folium.folium.Map at 0x2ded748>",
            "text/html": "<div style=\"width:100%;\"><div style=\"position:relative;width:100%;height:0;padding-bottom:60%;\"><span style=\"color:#565656\">Make this Notebook Trusted to load map: File -> Trust Notebook</span><iframe srcdoc=\"&lt;!DOCTYPE html&gt;\n&lt;html&gt;\n&lt;head&gt;\n    \n    &lt;meta http-equiv=&quot;content-type&quot; content=&quot;text/html; charset=UTF-8&quot; /&gt;\n    &lt;script src=&quot;https://cdn.jsdelivr.net/npm/leaflet@1.9.3/dist/leaflet.js&quot;&gt;&lt;/script&gt;\n    &lt;script src=&quot;https://code.jquery.com/jquery-3.7.1.min.js&quot;&gt;&lt;/script&gt;\n    &lt;script src=&quot;https://cdn.jsdelivr.net/npm/bootstrap@5.2.2/dist/js/bootstrap.bundle.min.js&quot;&gt;&lt;/script&gt;\n    &lt;script src=&quot;https://cdnjs.cloudflare.com/ajax/libs/Leaflet.awesome-markers/2.0.2/leaflet.awesome-markers.js&quot;&gt;&lt;/script&gt;\n    &lt;link rel=&quot;stylesheet&quot; href=&quot;https://cdn.jsdelivr.net/npm/leaflet@1.9.3/dist/leaflet.css&quot;/&gt;\n    &lt;link rel=&quot;stylesheet&quot; href=&quot;https://cdn.jsdelivr.net/npm/bootstrap@5.2.2/dist/css/bootstrap.min.css&quot;/&gt;\n    &lt;link rel=&quot;stylesheet&quot; href=&quot;https://netdna.bootstrapcdn.com/bootstrap/3.0.0/css/bootstrap-glyphicons.css&quot;/&gt;\n    &lt;link rel=&quot;stylesheet&quot; href=&quot;https://cdn.jsdelivr.net/npm/@fortawesome/fontawesome-free@6.2.0/css/all.min.css&quot;/&gt;\n    &lt;link rel=&quot;stylesheet&quot; href=&quot;https://cdnjs.cloudflare.com/ajax/libs/Leaflet.awesome-markers/2.0.2/leaflet.awesome-markers.css&quot;/&gt;\n    &lt;link rel=&quot;stylesheet&quot; href=&quot;https://cdn.jsdelivr.net/gh/python-visualization/folium/folium/templates/leaflet.awesome.rotate.min.css&quot;/&gt;\n    \n            &lt;meta name=&quot;viewport&quot; content=&quot;width=device-width,\n                initial-scale=1.0, maximum-scale=1.0, user-scalable=no&quot; /&gt;\n            &lt;style&gt;\n                #map_e491b6a36134faf4946ee240e74e3a3a {\n                    position: relative;\n                    width: 100.0%;\n                    height: 100.0%;\n                    left: 0.0%;\n                    top: 0.0%;\n                }\n                .leaflet-container { font-size: 1rem; }\n            &lt;/style&gt;\n\n            &lt;style&gt;html, body {\n                width: 100%;\n                height: 100%;\n                margin: 0;\n                padding: 0;\n            }\n            &lt;/style&gt;\n\n            &lt;style&gt;#map {\n                position:absolute;\n                top:0;\n                bottom:0;\n                right:0;\n                left:0;\n                }\n            &lt;/style&gt;\n\n            &lt;script&gt;\n                L_NO_TOUCH = false;\n                L_DISABLE_3D = false;\n            &lt;/script&gt;\n\n        \n&lt;/head&gt;\n&lt;body&gt;\n    \n    \n            &lt;div class=&quot;folium-map&quot; id=&quot;map_e491b6a36134faf4946ee240e74e3a3a&quot; &gt;&lt;/div&gt;\n        \n&lt;/body&gt;\n&lt;script&gt;\n    \n    \n            var map_e491b6a36134faf4946ee240e74e3a3a = L.map(\n                &quot;map_e491b6a36134faf4946ee240e74e3a3a&quot;,\n                {\n                    center: [29.559684888503615, -95.0830971930759],\n                    crs: L.CRS.EPSG3857,\n                    ...{\n  &quot;zoom&quot;: 5,\n  &quot;zoomControl&quot;: true,\n  &quot;preferCanvas&quot;: false,\n}\n\n                }\n            );\n\n            \n\n        \n    \n            var tile_layer_e5cd4e54df738c3c8e965b9966bb6f42 = L.tileLayer(\n                &quot;https://tile.openstreetmap.org/{z}/{x}/{y}.png&quot;,\n                {\n  &quot;minZoom&quot;: 0,\n  &quot;maxZoom&quot;: 19,\n  &quot;maxNativeZoom&quot;: 19,\n  &quot;noWrap&quot;: false,\n  &quot;attribution&quot;: &quot;\\u0026copy; \\u003ca href=\\&quot;https://www.openstreetmap.org/copyright\\&quot;\\u003eOpenStreetMap\\u003c/a\\u003e contributors&quot;,\n  &quot;subdomains&quot;: &quot;abc&quot;,\n  &quot;detectRetina&quot;: false,\n  &quot;tms&quot;: false,\n  &quot;opacity&quot;: 1,\n}\n\n            );\n        \n    \n            tile_layer_e5cd4e54df738c3c8e965b9966bb6f42.addTo(map_e491b6a36134faf4946ee240e74e3a3a);\n        \n    \n            var circle_43ec09abd0bddea20aaf6753faac3be0 = L.circle(\n                [28.56230197, -80.57735648],\n                {&quot;bubblingMouseEvents&quot;: true, &quot;color&quot;: &quot;#d35400&quot;, &quot;dashArray&quot;: null, &quot;dashOffset&quot;: null, &quot;fill&quot;: true, &quot;fillColor&quot;: &quot;#d35400&quot;, &quot;fillOpacity&quot;: 0.2, &quot;fillRule&quot;: &quot;evenodd&quot;, &quot;lineCap&quot;: &quot;round&quot;, &quot;lineJoin&quot;: &quot;round&quot;, &quot;opacity&quot;: 1.0, &quot;radius&quot;: 1000, &quot;stroke&quot;: true, &quot;weight&quot;: 3}\n            ).addTo(map_e491b6a36134faf4946ee240e74e3a3a);\n        \n    \n        var popup_5442af4ef727fec0989b2f4c5d6aa002 = L.popup({\n  &quot;maxWidth&quot;: &quot;100%&quot;,\n});\n\n        \n            \n                var html_6fe30e2e62011de4ba4ab738a33d9c8a = $(`&lt;div id=&quot;html_6fe30e2e62011de4ba4ab738a33d9c8a&quot; style=&quot;width: 100.0%; height: 100.0%;&quot;&gt;CCAFS LC-40&lt;/div&gt;`)[0];\n                popup_5442af4ef727fec0989b2f4c5d6aa002.setContent(html_6fe30e2e62011de4ba4ab738a33d9c8a);\n            \n        \n\n        circle_43ec09abd0bddea20aaf6753faac3be0.bindPopup(popup_5442af4ef727fec0989b2f4c5d6aa002)\n        ;\n\n        \n    \n    \n            var marker_6e684132c7f662df9518f2247f4b9529 = L.marker(\n                [28.56230197, -80.57735648],\n                {\n}\n            ).addTo(map_e491b6a36134faf4946ee240e74e3a3a);\n        \n    \n            var div_icon_a21ea1fdab2fc9dc3dff380585d81969 = L.divIcon({\n  &quot;html&quot;: &quot;\\u003cdiv style=\\&quot;font-size: 12; color:#d35400;\\&quot;\\u003e\\u003cb\\u003eCCAFS LC-40\\u003c/b\\u003e\\u003c/div\\u003e&quot;,\n  &quot;iconSize&quot;: [20, 20],\n  &quot;iconAnchor&quot;: [0, 0],\n  &quot;className&quot;: &quot;empty&quot;,\n});\n        \n    \n                marker_6e684132c7f662df9518f2247f4b9529.setIcon(div_icon_a21ea1fdab2fc9dc3dff380585d81969);\n            \n    \n            var circle_4804da72ed25502f2677b82ce6fac76b = L.circle(\n                [28.56319718, -80.57682003],\n                {&quot;bubblingMouseEvents&quot;: true, &quot;color&quot;: &quot;#d35400&quot;, &quot;dashArray&quot;: null, &quot;dashOffset&quot;: null, &quot;fill&quot;: true, &quot;fillColor&quot;: &quot;#d35400&quot;, &quot;fillOpacity&quot;: 0.2, &quot;fillRule&quot;: &quot;evenodd&quot;, &quot;lineCap&quot;: &quot;round&quot;, &quot;lineJoin&quot;: &quot;round&quot;, &quot;opacity&quot;: 1.0, &quot;radius&quot;: 1000, &quot;stroke&quot;: true, &quot;weight&quot;: 3}\n            ).addTo(map_e491b6a36134faf4946ee240e74e3a3a);\n        \n    \n        var popup_0ff03c93a549855da70fb69e2ee344a6 = L.popup({\n  &quot;maxWidth&quot;: &quot;100%&quot;,\n});\n\n        \n            \n                var html_b68fb167735550ce8a93b2cc143d2ff5 = $(`&lt;div id=&quot;html_b68fb167735550ce8a93b2cc143d2ff5&quot; style=&quot;width: 100.0%; height: 100.0%;&quot;&gt;CCAFS SLC-40&lt;/div&gt;`)[0];\n                popup_0ff03c93a549855da70fb69e2ee344a6.setContent(html_b68fb167735550ce8a93b2cc143d2ff5);\n            \n        \n\n        circle_4804da72ed25502f2677b82ce6fac76b.bindPopup(popup_0ff03c93a549855da70fb69e2ee344a6)\n        ;\n\n        \n    \n    \n            var marker_49aafe161f1d19a6f49ef40c46832ca4 = L.marker(\n                [28.56319718, -80.57682003],\n                {\n}\n            ).addTo(map_e491b6a36134faf4946ee240e74e3a3a);\n        \n    \n            var div_icon_935b1572bdb97c6a44162da4323a4acb = L.divIcon({\n  &quot;html&quot;: &quot;\\u003cdiv style=\\&quot;font-size: 12; color:#d35400;\\&quot;\\u003e\\u003cb\\u003eCCAFS SLC-40\\u003c/b\\u003e\\u003c/div\\u003e&quot;,\n  &quot;iconSize&quot;: [20, 20],\n  &quot;iconAnchor&quot;: [0, 0],\n  &quot;className&quot;: &quot;empty&quot;,\n});\n        \n    \n                marker_49aafe161f1d19a6f49ef40c46832ca4.setIcon(div_icon_935b1572bdb97c6a44162da4323a4acb);\n            \n    \n            var circle_5f2e545e2a27766d230fc52911fab1a3 = L.circle(\n                [28.57325457, -80.64689529],\n                {&quot;bubblingMouseEvents&quot;: true, &quot;color&quot;: &quot;#d35400&quot;, &quot;dashArray&quot;: null, &quot;dashOffset&quot;: null, &quot;fill&quot;: true, &quot;fillColor&quot;: &quot;#d35400&quot;, &quot;fillOpacity&quot;: 0.2, &quot;fillRule&quot;: &quot;evenodd&quot;, &quot;lineCap&quot;: &quot;round&quot;, &quot;lineJoin&quot;: &quot;round&quot;, &quot;opacity&quot;: 1.0, &quot;radius&quot;: 1000, &quot;stroke&quot;: true, &quot;weight&quot;: 3}\n            ).addTo(map_e491b6a36134faf4946ee240e74e3a3a);\n        \n    \n        var popup_a3111c09d6ce339f52f732e70ab49b8e = L.popup({\n  &quot;maxWidth&quot;: &quot;100%&quot;,\n});\n\n        \n            \n                var html_50618ec82d3900d6296bca10a82fbbf1 = $(`&lt;div id=&quot;html_50618ec82d3900d6296bca10a82fbbf1&quot; style=&quot;width: 100.0%; height: 100.0%;&quot;&gt;KSC LC-39A&lt;/div&gt;`)[0];\n                popup_a3111c09d6ce339f52f732e70ab49b8e.setContent(html_50618ec82d3900d6296bca10a82fbbf1);\n            \n        \n\n        circle_5f2e545e2a27766d230fc52911fab1a3.bindPopup(popup_a3111c09d6ce339f52f732e70ab49b8e)\n        ;\n\n        \n    \n    \n            var marker_9d17fe7202dbe8bed81414ffe5d067ec = L.marker(\n                [28.57325457, -80.64689529],\n                {\n}\n            ).addTo(map_e491b6a36134faf4946ee240e74e3a3a);\n        \n    \n            var div_icon_ea2cb5e204d625a2157314cc7a8eff4e = L.divIcon({\n  &quot;html&quot;: &quot;\\u003cdiv style=\\&quot;font-size: 12; color:#d35400;\\&quot;\\u003e\\u003cb\\u003eKSC LC-39A\\u003c/b\\u003e\\u003c/div\\u003e&quot;,\n  &quot;iconSize&quot;: [20, 20],\n  &quot;iconAnchor&quot;: [0, 0],\n  &quot;className&quot;: &quot;empty&quot;,\n});\n        \n    \n                marker_9d17fe7202dbe8bed81414ffe5d067ec.setIcon(div_icon_ea2cb5e204d625a2157314cc7a8eff4e);\n            \n    \n            var circle_37752cf2d621a2244ee7fe5bc3ee33d7 = L.circle(\n                [34.63283416, -120.6107455],\n                {&quot;bubblingMouseEvents&quot;: true, &quot;color&quot;: &quot;#d35400&quot;, &quot;dashArray&quot;: null, &quot;dashOffset&quot;: null, &quot;fill&quot;: true, &quot;fillColor&quot;: &quot;#d35400&quot;, &quot;fillOpacity&quot;: 0.2, &quot;fillRule&quot;: &quot;evenodd&quot;, &quot;lineCap&quot;: &quot;round&quot;, &quot;lineJoin&quot;: &quot;round&quot;, &quot;opacity&quot;: 1.0, &quot;radius&quot;: 1000, &quot;stroke&quot;: true, &quot;weight&quot;: 3}\n            ).addTo(map_e491b6a36134faf4946ee240e74e3a3a);\n        \n    \n        var popup_40b0160179167e397612f2c580ef7385 = L.popup({\n  &quot;maxWidth&quot;: &quot;100%&quot;,\n});\n\n        \n            \n                var html_203d7e057e7749788c96762b1414434a = $(`&lt;div id=&quot;html_203d7e057e7749788c96762b1414434a&quot; style=&quot;width: 100.0%; height: 100.0%;&quot;&gt;VAFB SLC-4E&lt;/div&gt;`)[0];\n                popup_40b0160179167e397612f2c580ef7385.setContent(html_203d7e057e7749788c96762b1414434a);\n            \n        \n\n        circle_37752cf2d621a2244ee7fe5bc3ee33d7.bindPopup(popup_40b0160179167e397612f2c580ef7385)\n        ;\n\n        \n    \n    \n            var marker_06e0b0111b4327c51e09cf29e5461285 = L.marker(\n                [34.63283416, -120.6107455],\n                {\n}\n            ).addTo(map_e491b6a36134faf4946ee240e74e3a3a);\n        \n    \n            var div_icon_0166da8f0e8ed5fb9a7490e46f28d217 = L.divIcon({\n  &quot;html&quot;: &quot;\\u003cdiv style=\\&quot;font-size: 12; color:#d35400;\\&quot;\\u003e\\u003cb\\u003eVAFB SLC-4E\\u003c/b\\u003e\\u003c/div\\u003e&quot;,\n  &quot;iconSize&quot;: [20, 20],\n  &quot;iconAnchor&quot;: [0, 0],\n  &quot;className&quot;: &quot;empty&quot;,\n});\n        \n    \n                marker_06e0b0111b4327c51e09cf29e5461285.setIcon(div_icon_0166da8f0e8ed5fb9a7490e46f28d217);\n            \n&lt;/script&gt;\n&lt;/html&gt;\" style=\"position:absolute;width:100%;height:100%;left:0;top:0;border:none !important;\" allowfullscreen webkitallowfullscreen mozallowfullscreen></iframe></div></div>"
          },
          "metadata": {}
        }
      ],
      "execution_count": 10
    },
    {
      "cell_type": "markdown",
      "source": "The generated map with marked launch sites should look similar to the following:\n",
      "metadata": {}
    },
    {
      "cell_type": "markdown",
      "source": "<center>\n    <img src=\"https://cf-courses-data.s3.us.cloud-object-storage.appdomain.cloud/IBM-DS0321EN-SkillsNetwork/labs/module_3/images/launch_site_markers.png\">\n</center>\n",
      "metadata": {}
    },
    {
      "cell_type": "markdown",
      "source": "Now, you can explore the map by zoom-in/out the marked areas\n, and try to answer the following questions:\n\n*   Are all launch sites in proximity to the Equator line?\n*   Are all launch sites in very close proximity to the coast?\n\nAlso please try to explain your findings.\n",
      "metadata": {}
    },
    {
      "cell_type": "code",
      "source": "# Task 2: Mark the success/failed launches for each site on the map\nsite_map = folium.Map(location=nasa_coordinate, zoom_start=5)\n\nmarker_cluster = MarkerCluster()\n\nsite_map.add_child(marker_cluster)\n\nspacex_df['marker_color'] = spacex_df['class'].apply(lambda x: 'green' if x == 1 else 'red')\n\nfor index, record in spacex_df.iterrows():\n    marker = folium.Marker([record['Lat'], record['Long']],\n                            icon=folium.Icon(color='white', icon_color=record['marker_color']))\n    marker_cluster.add_child(marker)\n\nsite_map",
      "metadata": {
        "trusted": true
      },
      "outputs": [
        {
          "execution_count": 11,
          "output_type": "execute_result",
          "data": {
            "text/plain": "<folium.folium.Map at 0x3d2e028>",
            "text/html": "<div style=\"width:100%;\"><div style=\"position:relative;width:100%;height:0;padding-bottom:60%;\"><span style=\"color:#565656\">Make this Notebook Trusted to load map: File -> Trust Notebook</span><iframe srcdoc=\"&lt;!DOCTYPE html&gt;\n&lt;html&gt;\n&lt;head&gt;\n    \n    &lt;meta http-equiv=&quot;content-type&quot; content=&quot;text/html; charset=UTF-8&quot; /&gt;\n    &lt;script src=&quot;https://cdn.jsdelivr.net/npm/leaflet@1.9.3/dist/leaflet.js&quot;&gt;&lt;/script&gt;\n    &lt;script src=&quot;https://code.jquery.com/jquery-3.7.1.min.js&quot;&gt;&lt;/script&gt;\n    &lt;script src=&quot;https://cdn.jsdelivr.net/npm/bootstrap@5.2.2/dist/js/bootstrap.bundle.min.js&quot;&gt;&lt;/script&gt;\n    &lt;script src=&quot;https://cdnjs.cloudflare.com/ajax/libs/Leaflet.awesome-markers/2.0.2/leaflet.awesome-markers.js&quot;&gt;&lt;/script&gt;\n    &lt;link rel=&quot;stylesheet&quot; href=&quot;https://cdn.jsdelivr.net/npm/leaflet@1.9.3/dist/leaflet.css&quot;/&gt;\n    &lt;link rel=&quot;stylesheet&quot; href=&quot;https://cdn.jsdelivr.net/npm/bootstrap@5.2.2/dist/css/bootstrap.min.css&quot;/&gt;\n    &lt;link rel=&quot;stylesheet&quot; href=&quot;https://netdna.bootstrapcdn.com/bootstrap/3.0.0/css/bootstrap-glyphicons.css&quot;/&gt;\n    &lt;link rel=&quot;stylesheet&quot; href=&quot;https://cdn.jsdelivr.net/npm/@fortawesome/fontawesome-free@6.2.0/css/all.min.css&quot;/&gt;\n    &lt;link rel=&quot;stylesheet&quot; href=&quot;https://cdnjs.cloudflare.com/ajax/libs/Leaflet.awesome-markers/2.0.2/leaflet.awesome-markers.css&quot;/&gt;\n    &lt;link rel=&quot;stylesheet&quot; href=&quot;https://cdn.jsdelivr.net/gh/python-visualization/folium/folium/templates/leaflet.awesome.rotate.min.css&quot;/&gt;\n    \n            &lt;meta name=&quot;viewport&quot; content=&quot;width=device-width,\n                initial-scale=1.0, maximum-scale=1.0, user-scalable=no&quot; /&gt;\n            &lt;style&gt;\n                #map_0b6e7fcd452fff96bbcc5896ec6e8307 {\n                    position: relative;\n                    width: 100.0%;\n                    height: 100.0%;\n                    left: 0.0%;\n                    top: 0.0%;\n                }\n                .leaflet-container { font-size: 1rem; }\n            &lt;/style&gt;\n\n            &lt;style&gt;html, body {\n                width: 100%;\n                height: 100%;\n                margin: 0;\n                padding: 0;\n            }\n            &lt;/style&gt;\n\n            &lt;style&gt;#map {\n                position:absolute;\n                top:0;\n                bottom:0;\n                right:0;\n                left:0;\n                }\n            &lt;/style&gt;\n\n            &lt;script&gt;\n                L_NO_TOUCH = false;\n                L_DISABLE_3D = false;\n            &lt;/script&gt;\n\n        \n    &lt;script src=&quot;https://cdnjs.cloudflare.com/ajax/libs/leaflet.markercluster/1.1.0/leaflet.markercluster.js&quot;&gt;&lt;/script&gt;\n    &lt;link rel=&quot;stylesheet&quot; href=&quot;https://cdnjs.cloudflare.com/ajax/libs/leaflet.markercluster/1.1.0/MarkerCluster.css&quot;/&gt;\n    &lt;link rel=&quot;stylesheet&quot; href=&quot;https://cdnjs.cloudflare.com/ajax/libs/leaflet.markercluster/1.1.0/MarkerCluster.Default.css&quot;/&gt;\n&lt;/head&gt;\n&lt;body&gt;\n    \n    \n            &lt;div class=&quot;folium-map&quot; id=&quot;map_0b6e7fcd452fff96bbcc5896ec6e8307&quot; &gt;&lt;/div&gt;\n        \n&lt;/body&gt;\n&lt;script&gt;\n    \n    \n            var map_0b6e7fcd452fff96bbcc5896ec6e8307 = L.map(\n                &quot;map_0b6e7fcd452fff96bbcc5896ec6e8307&quot;,\n                {\n                    center: [29.559684888503615, -95.0830971930759],\n                    crs: L.CRS.EPSG3857,\n                    ...{\n  &quot;zoom&quot;: 5,\n  &quot;zoomControl&quot;: true,\n  &quot;preferCanvas&quot;: false,\n}\n\n                }\n            );\n\n            \n\n        \n    \n            var tile_layer_405b1f9706509df5854977a665aeeb37 = L.tileLayer(\n                &quot;https://tile.openstreetmap.org/{z}/{x}/{y}.png&quot;,\n                {\n  &quot;minZoom&quot;: 0,\n  &quot;maxZoom&quot;: 19,\n  &quot;maxNativeZoom&quot;: 19,\n  &quot;noWrap&quot;: false,\n  &quot;attribution&quot;: &quot;\\u0026copy; \\u003ca href=\\&quot;https://www.openstreetmap.org/copyright\\&quot;\\u003eOpenStreetMap\\u003c/a\\u003e contributors&quot;,\n  &quot;subdomains&quot;: &quot;abc&quot;,\n  &quot;detectRetina&quot;: false,\n  &quot;tms&quot;: false,\n  &quot;opacity&quot;: 1,\n}\n\n            );\n        \n    \n            tile_layer_405b1f9706509df5854977a665aeeb37.addTo(map_0b6e7fcd452fff96bbcc5896ec6e8307);\n        \n    \n            var marker_cluster_48d691d67956c99795905ceb1eb213f1 = L.markerClusterGroup(\n                {\n}\n            );\n        \n    \n            var marker_7aeed69f843b6208c4a08734790c0c98 = L.marker(\n                [28.56230197, -80.57735648],\n                {\n}\n            ).addTo(marker_cluster_48d691d67956c99795905ceb1eb213f1);\n        \n    \n            var icon_495329f189cfa3b6df1fe073234ea5f2 = L.AwesomeMarkers.icon(\n                {\n  &quot;markerColor&quot;: &quot;white&quot;,\n  &quot;iconColor&quot;: &quot;red&quot;,\n  &quot;icon&quot;: &quot;info-sign&quot;,\n  &quot;prefix&quot;: &quot;glyphicon&quot;,\n  &quot;extraClasses&quot;: &quot;fa-rotate-0&quot;,\n}\n            );\n        \n    \n                marker_7aeed69f843b6208c4a08734790c0c98.setIcon(icon_495329f189cfa3b6df1fe073234ea5f2);\n            \n    \n            var marker_20aa2a380b4f0eb7a8ca0f6de98b8671 = L.marker(\n                [28.56230197, -80.57735648],\n                {\n}\n            ).addTo(marker_cluster_48d691d67956c99795905ceb1eb213f1);\n        \n    \n            var icon_28ee23f8e2fb5caab800b04aa58f21ce = L.AwesomeMarkers.icon(\n                {\n  &quot;markerColor&quot;: &quot;white&quot;,\n  &quot;iconColor&quot;: &quot;red&quot;,\n  &quot;icon&quot;: &quot;info-sign&quot;,\n  &quot;prefix&quot;: &quot;glyphicon&quot;,\n  &quot;extraClasses&quot;: &quot;fa-rotate-0&quot;,\n}\n            );\n        \n    \n                marker_20aa2a380b4f0eb7a8ca0f6de98b8671.setIcon(icon_28ee23f8e2fb5caab800b04aa58f21ce);\n            \n    \n            var marker_50fb0d0daec48b3eab9b568087526f56 = L.marker(\n                [28.56230197, -80.57735648],\n                {\n}\n            ).addTo(marker_cluster_48d691d67956c99795905ceb1eb213f1);\n        \n    \n            var icon_3bbb472c13822e5a3cb94199c94a8be9 = L.AwesomeMarkers.icon(\n                {\n  &quot;markerColor&quot;: &quot;white&quot;,\n  &quot;iconColor&quot;: &quot;red&quot;,\n  &quot;icon&quot;: &quot;info-sign&quot;,\n  &quot;prefix&quot;: &quot;glyphicon&quot;,\n  &quot;extraClasses&quot;: &quot;fa-rotate-0&quot;,\n}\n            );\n        \n    \n                marker_50fb0d0daec48b3eab9b568087526f56.setIcon(icon_3bbb472c13822e5a3cb94199c94a8be9);\n            \n    \n            var marker_7e6a69469b05fedc51d4f918397d5968 = L.marker(\n                [28.56230197, -80.57735648],\n                {\n}\n            ).addTo(marker_cluster_48d691d67956c99795905ceb1eb213f1);\n        \n    \n            var icon_4c8f4ba7288b296ea062b1339b7aacdc = L.AwesomeMarkers.icon(\n                {\n  &quot;markerColor&quot;: &quot;white&quot;,\n  &quot;iconColor&quot;: &quot;red&quot;,\n  &quot;icon&quot;: &quot;info-sign&quot;,\n  &quot;prefix&quot;: &quot;glyphicon&quot;,\n  &quot;extraClasses&quot;: &quot;fa-rotate-0&quot;,\n}\n            );\n        \n    \n                marker_7e6a69469b05fedc51d4f918397d5968.setIcon(icon_4c8f4ba7288b296ea062b1339b7aacdc);\n            \n    \n            var marker_0b333aab483ecf1e7b4523da0d68b897 = L.marker(\n                [28.56230197, -80.57735648],\n                {\n}\n            ).addTo(marker_cluster_48d691d67956c99795905ceb1eb213f1);\n        \n    \n            var icon_0b3e2a77021667b93c5137c17809ef6a = L.AwesomeMarkers.icon(\n                {\n  &quot;markerColor&quot;: &quot;white&quot;,\n  &quot;iconColor&quot;: &quot;red&quot;,\n  &quot;icon&quot;: &quot;info-sign&quot;,\n  &quot;prefix&quot;: &quot;glyphicon&quot;,\n  &quot;extraClasses&quot;: &quot;fa-rotate-0&quot;,\n}\n            );\n        \n    \n                marker_0b333aab483ecf1e7b4523da0d68b897.setIcon(icon_0b3e2a77021667b93c5137c17809ef6a);\n            \n    \n            var marker_0172c8077e20261ccf9d735dd2a6d36d = L.marker(\n                [28.56230197, -80.57735648],\n                {\n}\n            ).addTo(marker_cluster_48d691d67956c99795905ceb1eb213f1);\n        \n    \n            var icon_a81b0c0b04fe02a2608bf7b8164cec0d = L.AwesomeMarkers.icon(\n                {\n  &quot;markerColor&quot;: &quot;white&quot;,\n  &quot;iconColor&quot;: &quot;red&quot;,\n  &quot;icon&quot;: &quot;info-sign&quot;,\n  &quot;prefix&quot;: &quot;glyphicon&quot;,\n  &quot;extraClasses&quot;: &quot;fa-rotate-0&quot;,\n}\n            );\n        \n    \n                marker_0172c8077e20261ccf9d735dd2a6d36d.setIcon(icon_a81b0c0b04fe02a2608bf7b8164cec0d);\n            \n    \n            var marker_06328d2ca0b0f6958ac0293a146f551a = L.marker(\n                [28.56230197, -80.57735648],\n                {\n}\n            ).addTo(marker_cluster_48d691d67956c99795905ceb1eb213f1);\n        \n    \n            var icon_a86f07edf917b34acae751062a569802 = L.AwesomeMarkers.icon(\n                {\n  &quot;markerColor&quot;: &quot;white&quot;,\n  &quot;iconColor&quot;: &quot;red&quot;,\n  &quot;icon&quot;: &quot;info-sign&quot;,\n  &quot;prefix&quot;: &quot;glyphicon&quot;,\n  &quot;extraClasses&quot;: &quot;fa-rotate-0&quot;,\n}\n            );\n        \n    \n                marker_06328d2ca0b0f6958ac0293a146f551a.setIcon(icon_a86f07edf917b34acae751062a569802);\n            \n    \n            var marker_9f2e202de061b9f3be2100852b9c8a1c = L.marker(\n                [28.56230197, -80.57735648],\n                {\n}\n            ).addTo(marker_cluster_48d691d67956c99795905ceb1eb213f1);\n        \n    \n            var icon_48a57a6567ef39c1020a5301773486b7 = L.AwesomeMarkers.icon(\n                {\n  &quot;markerColor&quot;: &quot;white&quot;,\n  &quot;iconColor&quot;: &quot;red&quot;,\n  &quot;icon&quot;: &quot;info-sign&quot;,\n  &quot;prefix&quot;: &quot;glyphicon&quot;,\n  &quot;extraClasses&quot;: &quot;fa-rotate-0&quot;,\n}\n            );\n        \n    \n                marker_9f2e202de061b9f3be2100852b9c8a1c.setIcon(icon_48a57a6567ef39c1020a5301773486b7);\n            \n    \n            var marker_b5cdc0b64354b0ecae3d4fdb1734ac43 = L.marker(\n                [28.56230197, -80.57735648],\n                {\n}\n            ).addTo(marker_cluster_48d691d67956c99795905ceb1eb213f1);\n        \n    \n            var icon_3130494f3ec41a9bbb0f260ff5676e81 = L.AwesomeMarkers.icon(\n                {\n  &quot;markerColor&quot;: &quot;white&quot;,\n  &quot;iconColor&quot;: &quot;red&quot;,\n  &quot;icon&quot;: &quot;info-sign&quot;,\n  &quot;prefix&quot;: &quot;glyphicon&quot;,\n  &quot;extraClasses&quot;: &quot;fa-rotate-0&quot;,\n}\n            );\n        \n    \n                marker_b5cdc0b64354b0ecae3d4fdb1734ac43.setIcon(icon_3130494f3ec41a9bbb0f260ff5676e81);\n            \n    \n            var marker_f4fd99224ba67ab89867dab50d431a76 = L.marker(\n                [28.56230197, -80.57735648],\n                {\n}\n            ).addTo(marker_cluster_48d691d67956c99795905ceb1eb213f1);\n        \n    \n            var icon_35ddcd21101688e1e32d6fcaf3116346 = L.AwesomeMarkers.icon(\n                {\n  &quot;markerColor&quot;: &quot;white&quot;,\n  &quot;iconColor&quot;: &quot;red&quot;,\n  &quot;icon&quot;: &quot;info-sign&quot;,\n  &quot;prefix&quot;: &quot;glyphicon&quot;,\n  &quot;extraClasses&quot;: &quot;fa-rotate-0&quot;,\n}\n            );\n        \n    \n                marker_f4fd99224ba67ab89867dab50d431a76.setIcon(icon_35ddcd21101688e1e32d6fcaf3116346);\n            \n    \n            var marker_27eb4476f168aff131cbc6992a287203 = L.marker(\n                [28.56230197, -80.57735648],\n                {\n}\n            ).addTo(marker_cluster_48d691d67956c99795905ceb1eb213f1);\n        \n    \n            var icon_8166e276174bac06d306035d9689a4f8 = L.AwesomeMarkers.icon(\n                {\n  &quot;markerColor&quot;: &quot;white&quot;,\n  &quot;iconColor&quot;: &quot;red&quot;,\n  &quot;icon&quot;: &quot;info-sign&quot;,\n  &quot;prefix&quot;: &quot;glyphicon&quot;,\n  &quot;extraClasses&quot;: &quot;fa-rotate-0&quot;,\n}\n            );\n        \n    \n                marker_27eb4476f168aff131cbc6992a287203.setIcon(icon_8166e276174bac06d306035d9689a4f8);\n            \n    \n            var marker_8d2dcfbd97098f4de2fe39158b2921a2 = L.marker(\n                [28.56230197, -80.57735648],\n                {\n}\n            ).addTo(marker_cluster_48d691d67956c99795905ceb1eb213f1);\n        \n    \n            var icon_44084039b11df03d25caa6a9e6f6762e = L.AwesomeMarkers.icon(\n                {\n  &quot;markerColor&quot;: &quot;white&quot;,\n  &quot;iconColor&quot;: &quot;red&quot;,\n  &quot;icon&quot;: &quot;info-sign&quot;,\n  &quot;prefix&quot;: &quot;glyphicon&quot;,\n  &quot;extraClasses&quot;: &quot;fa-rotate-0&quot;,\n}\n            );\n        \n    \n                marker_8d2dcfbd97098f4de2fe39158b2921a2.setIcon(icon_44084039b11df03d25caa6a9e6f6762e);\n            \n    \n            var marker_7ff9b14aedb12380dfa7c5ca59d6600c = L.marker(\n                [28.56230197, -80.57735648],\n                {\n}\n            ).addTo(marker_cluster_48d691d67956c99795905ceb1eb213f1);\n        \n    \n            var icon_c04102b296640ff5ad4dbf6e459e3f6c = L.AwesomeMarkers.icon(\n                {\n  &quot;markerColor&quot;: &quot;white&quot;,\n  &quot;iconColor&quot;: &quot;red&quot;,\n  &quot;icon&quot;: &quot;info-sign&quot;,\n  &quot;prefix&quot;: &quot;glyphicon&quot;,\n  &quot;extraClasses&quot;: &quot;fa-rotate-0&quot;,\n}\n            );\n        \n    \n                marker_7ff9b14aedb12380dfa7c5ca59d6600c.setIcon(icon_c04102b296640ff5ad4dbf6e459e3f6c);\n            \n    \n            var marker_16970b23f85b853db65c9e475b61f5f0 = L.marker(\n                [28.56230197, -80.57735648],\n                {\n}\n            ).addTo(marker_cluster_48d691d67956c99795905ceb1eb213f1);\n        \n    \n            var icon_c64935b6efe32c4d75326d44eb090f91 = L.AwesomeMarkers.icon(\n                {\n  &quot;markerColor&quot;: &quot;white&quot;,\n  &quot;iconColor&quot;: &quot;red&quot;,\n  &quot;icon&quot;: &quot;info-sign&quot;,\n  &quot;prefix&quot;: &quot;glyphicon&quot;,\n  &quot;extraClasses&quot;: &quot;fa-rotate-0&quot;,\n}\n            );\n        \n    \n                marker_16970b23f85b853db65c9e475b61f5f0.setIcon(icon_c64935b6efe32c4d75326d44eb090f91);\n            \n    \n            var marker_139e31dfb9c48e1825323c9ca824a0c3 = L.marker(\n                [28.56230197, -80.57735648],\n                {\n}\n            ).addTo(marker_cluster_48d691d67956c99795905ceb1eb213f1);\n        \n    \n            var icon_75bcf8be3d90e7565fb47bf86a7e98f3 = L.AwesomeMarkers.icon(\n                {\n  &quot;markerColor&quot;: &quot;white&quot;,\n  &quot;iconColor&quot;: &quot;red&quot;,\n  &quot;icon&quot;: &quot;info-sign&quot;,\n  &quot;prefix&quot;: &quot;glyphicon&quot;,\n  &quot;extraClasses&quot;: &quot;fa-rotate-0&quot;,\n}\n            );\n        \n    \n                marker_139e31dfb9c48e1825323c9ca824a0c3.setIcon(icon_75bcf8be3d90e7565fb47bf86a7e98f3);\n            \n    \n            var marker_948d359c6cf33b54ee8c7b89fb804de3 = L.marker(\n                [28.56230197, -80.57735648],\n                {\n}\n            ).addTo(marker_cluster_48d691d67956c99795905ceb1eb213f1);\n        \n    \n            var icon_13f42c982f19c1608762f9e4059ffeaa = L.AwesomeMarkers.icon(\n                {\n  &quot;markerColor&quot;: &quot;white&quot;,\n  &quot;iconColor&quot;: &quot;red&quot;,\n  &quot;icon&quot;: &quot;info-sign&quot;,\n  &quot;prefix&quot;: &quot;glyphicon&quot;,\n  &quot;extraClasses&quot;: &quot;fa-rotate-0&quot;,\n}\n            );\n        \n    \n                marker_948d359c6cf33b54ee8c7b89fb804de3.setIcon(icon_13f42c982f19c1608762f9e4059ffeaa);\n            \n    \n            var marker_7cf23f47bf11f6cbf09b493d15222d8f = L.marker(\n                [28.56230197, -80.57735648],\n                {\n}\n            ).addTo(marker_cluster_48d691d67956c99795905ceb1eb213f1);\n        \n    \n            var icon_9c6f551e98abcb3e2318d27d6d6cdb32 = L.AwesomeMarkers.icon(\n                {\n  &quot;markerColor&quot;: &quot;white&quot;,\n  &quot;iconColor&quot;: &quot;red&quot;,\n  &quot;icon&quot;: &quot;info-sign&quot;,\n  &quot;prefix&quot;: &quot;glyphicon&quot;,\n  &quot;extraClasses&quot;: &quot;fa-rotate-0&quot;,\n}\n            );\n        \n    \n                marker_7cf23f47bf11f6cbf09b493d15222d8f.setIcon(icon_9c6f551e98abcb3e2318d27d6d6cdb32);\n            \n    \n            var marker_c3e59df3ecdcafdbde170fc6c4d2bf9f = L.marker(\n                [28.56230197, -80.57735648],\n                {\n}\n            ).addTo(marker_cluster_48d691d67956c99795905ceb1eb213f1);\n        \n    \n            var icon_6c4a93b3720453d89cb27e4f22c00283 = L.AwesomeMarkers.icon(\n                {\n  &quot;markerColor&quot;: &quot;white&quot;,\n  &quot;iconColor&quot;: &quot;green&quot;,\n  &quot;icon&quot;: &quot;info-sign&quot;,\n  &quot;prefix&quot;: &quot;glyphicon&quot;,\n  &quot;extraClasses&quot;: &quot;fa-rotate-0&quot;,\n}\n            );\n        \n    \n                marker_c3e59df3ecdcafdbde170fc6c4d2bf9f.setIcon(icon_6c4a93b3720453d89cb27e4f22c00283);\n            \n    \n            var marker_3ac3b200007d1985b59ccc27f57235f4 = L.marker(\n                [28.56230197, -80.57735648],\n                {\n}\n            ).addTo(marker_cluster_48d691d67956c99795905ceb1eb213f1);\n        \n    \n            var icon_2a0d6e4b84470a9a8730ca7f22dc86ab = L.AwesomeMarkers.icon(\n                {\n  &quot;markerColor&quot;: &quot;white&quot;,\n  &quot;iconColor&quot;: &quot;green&quot;,\n  &quot;icon&quot;: &quot;info-sign&quot;,\n  &quot;prefix&quot;: &quot;glyphicon&quot;,\n  &quot;extraClasses&quot;: &quot;fa-rotate-0&quot;,\n}\n            );\n        \n    \n                marker_3ac3b200007d1985b59ccc27f57235f4.setIcon(icon_2a0d6e4b84470a9a8730ca7f22dc86ab);\n            \n    \n            var marker_c4db1656bd906e83fdf1dc72effe6c15 = L.marker(\n                [28.56230197, -80.57735648],\n                {\n}\n            ).addTo(marker_cluster_48d691d67956c99795905ceb1eb213f1);\n        \n    \n            var icon_574e85612b16fa2326f1e9bea38d9f99 = L.AwesomeMarkers.icon(\n                {\n  &quot;markerColor&quot;: &quot;white&quot;,\n  &quot;iconColor&quot;: &quot;red&quot;,\n  &quot;icon&quot;: &quot;info-sign&quot;,\n  &quot;prefix&quot;: &quot;glyphicon&quot;,\n  &quot;extraClasses&quot;: &quot;fa-rotate-0&quot;,\n}\n            );\n        \n    \n                marker_c4db1656bd906e83fdf1dc72effe6c15.setIcon(icon_574e85612b16fa2326f1e9bea38d9f99);\n            \n    \n            var marker_e2741f3013c0666808f6871545058992 = L.marker(\n                [28.56230197, -80.57735648],\n                {\n}\n            ).addTo(marker_cluster_48d691d67956c99795905ceb1eb213f1);\n        \n    \n            var icon_525383a486b7970a32a443b4ce6b6c3c = L.AwesomeMarkers.icon(\n                {\n  &quot;markerColor&quot;: &quot;white&quot;,\n  &quot;iconColor&quot;: &quot;green&quot;,\n  &quot;icon&quot;: &quot;info-sign&quot;,\n  &quot;prefix&quot;: &quot;glyphicon&quot;,\n  &quot;extraClasses&quot;: &quot;fa-rotate-0&quot;,\n}\n            );\n        \n    \n                marker_e2741f3013c0666808f6871545058992.setIcon(icon_525383a486b7970a32a443b4ce6b6c3c);\n            \n    \n            var marker_d75f69b99e578e9a62316bb5e3791bc4 = L.marker(\n                [28.56230197, -80.57735648],\n                {\n}\n            ).addTo(marker_cluster_48d691d67956c99795905ceb1eb213f1);\n        \n    \n            var icon_f19aa4f9fecc8b165761c68f50e0ea87 = L.AwesomeMarkers.icon(\n                {\n  &quot;markerColor&quot;: &quot;white&quot;,\n  &quot;iconColor&quot;: &quot;green&quot;,\n  &quot;icon&quot;: &quot;info-sign&quot;,\n  &quot;prefix&quot;: &quot;glyphicon&quot;,\n  &quot;extraClasses&quot;: &quot;fa-rotate-0&quot;,\n}\n            );\n        \n    \n                marker_d75f69b99e578e9a62316bb5e3791bc4.setIcon(icon_f19aa4f9fecc8b165761c68f50e0ea87);\n            \n    \n            var marker_579403e2c2af2f2744a6fdb77875d910 = L.marker(\n                [28.56230197, -80.57735648],\n                {\n}\n            ).addTo(marker_cluster_48d691d67956c99795905ceb1eb213f1);\n        \n    \n            var icon_43ef2905ecb267a61e337b0c8e2a5e28 = L.AwesomeMarkers.icon(\n                {\n  &quot;markerColor&quot;: &quot;white&quot;,\n  &quot;iconColor&quot;: &quot;green&quot;,\n  &quot;icon&quot;: &quot;info-sign&quot;,\n  &quot;prefix&quot;: &quot;glyphicon&quot;,\n  &quot;extraClasses&quot;: &quot;fa-rotate-0&quot;,\n}\n            );\n        \n    \n                marker_579403e2c2af2f2744a6fdb77875d910.setIcon(icon_43ef2905ecb267a61e337b0c8e2a5e28);\n            \n    \n            var marker_6add8ca5006c0e4aaf759d054bf3e7d2 = L.marker(\n                [28.56230197, -80.57735648],\n                {\n}\n            ).addTo(marker_cluster_48d691d67956c99795905ceb1eb213f1);\n        \n    \n            var icon_6ca6f08036323ee9271f10cffdbb6016 = L.AwesomeMarkers.icon(\n                {\n  &quot;markerColor&quot;: &quot;white&quot;,\n  &quot;iconColor&quot;: &quot;red&quot;,\n  &quot;icon&quot;: &quot;info-sign&quot;,\n  &quot;prefix&quot;: &quot;glyphicon&quot;,\n  &quot;extraClasses&quot;: &quot;fa-rotate-0&quot;,\n}\n            );\n        \n    \n                marker_6add8ca5006c0e4aaf759d054bf3e7d2.setIcon(icon_6ca6f08036323ee9271f10cffdbb6016);\n            \n    \n            var marker_bd563e9ee3d7aae7831cfdbfcd59473d = L.marker(\n                [28.56230197, -80.57735648],\n                {\n}\n            ).addTo(marker_cluster_48d691d67956c99795905ceb1eb213f1);\n        \n    \n            var icon_7ba5460b986424064e46751bb34f846b = L.AwesomeMarkers.icon(\n                {\n  &quot;markerColor&quot;: &quot;white&quot;,\n  &quot;iconColor&quot;: &quot;green&quot;,\n  &quot;icon&quot;: &quot;info-sign&quot;,\n  &quot;prefix&quot;: &quot;glyphicon&quot;,\n  &quot;extraClasses&quot;: &quot;fa-rotate-0&quot;,\n}\n            );\n        \n    \n                marker_bd563e9ee3d7aae7831cfdbfcd59473d.setIcon(icon_7ba5460b986424064e46751bb34f846b);\n            \n    \n            var marker_d19ec4983495cdd2ded202c4c100e88d = L.marker(\n                [28.56230197, -80.57735648],\n                {\n}\n            ).addTo(marker_cluster_48d691d67956c99795905ceb1eb213f1);\n        \n    \n            var icon_26e20050778ba84ba5a793993fd83ce8 = L.AwesomeMarkers.icon(\n                {\n  &quot;markerColor&quot;: &quot;white&quot;,\n  &quot;iconColor&quot;: &quot;green&quot;,\n  &quot;icon&quot;: &quot;info-sign&quot;,\n  &quot;prefix&quot;: &quot;glyphicon&quot;,\n  &quot;extraClasses&quot;: &quot;fa-rotate-0&quot;,\n}\n            );\n        \n    \n                marker_d19ec4983495cdd2ded202c4c100e88d.setIcon(icon_26e20050778ba84ba5a793993fd83ce8);\n            \n    \n            var marker_e23fad7eb8cc42c721a7081086d18159 = L.marker(\n                [34.63283416, -120.6107455],\n                {\n}\n            ).addTo(marker_cluster_48d691d67956c99795905ceb1eb213f1);\n        \n    \n            var icon_d5bc6d0fd02b2e766613e67111beff94 = L.AwesomeMarkers.icon(\n                {\n  &quot;markerColor&quot;: &quot;white&quot;,\n  &quot;iconColor&quot;: &quot;red&quot;,\n  &quot;icon&quot;: &quot;info-sign&quot;,\n  &quot;prefix&quot;: &quot;glyphicon&quot;,\n  &quot;extraClasses&quot;: &quot;fa-rotate-0&quot;,\n}\n            );\n        \n    \n                marker_e23fad7eb8cc42c721a7081086d18159.setIcon(icon_d5bc6d0fd02b2e766613e67111beff94);\n            \n    \n            var marker_e22c2154aeb7acc0b03d910bc714520a = L.marker(\n                [34.63283416, -120.6107455],\n                {\n}\n            ).addTo(marker_cluster_48d691d67956c99795905ceb1eb213f1);\n        \n    \n            var icon_71cb7bc9e64049f3bf4ff539f8716bf0 = L.AwesomeMarkers.icon(\n                {\n  &quot;markerColor&quot;: &quot;white&quot;,\n  &quot;iconColor&quot;: &quot;red&quot;,\n  &quot;icon&quot;: &quot;info-sign&quot;,\n  &quot;prefix&quot;: &quot;glyphicon&quot;,\n  &quot;extraClasses&quot;: &quot;fa-rotate-0&quot;,\n}\n            );\n        \n    \n                marker_e22c2154aeb7acc0b03d910bc714520a.setIcon(icon_71cb7bc9e64049f3bf4ff539f8716bf0);\n            \n    \n            var marker_3b5138accaf7bdb68bd680ce7d224986 = L.marker(\n                [34.63283416, -120.6107455],\n                {\n}\n            ).addTo(marker_cluster_48d691d67956c99795905ceb1eb213f1);\n        \n    \n            var icon_0444e67abecd3d45d0b36e958067fb8a = L.AwesomeMarkers.icon(\n                {\n  &quot;markerColor&quot;: &quot;white&quot;,\n  &quot;iconColor&quot;: &quot;green&quot;,\n  &quot;icon&quot;: &quot;info-sign&quot;,\n  &quot;prefix&quot;: &quot;glyphicon&quot;,\n  &quot;extraClasses&quot;: &quot;fa-rotate-0&quot;,\n}\n            );\n        \n    \n                marker_3b5138accaf7bdb68bd680ce7d224986.setIcon(icon_0444e67abecd3d45d0b36e958067fb8a);\n            \n    \n            var marker_2fb46fc7243e660e57e93af3216dd27c = L.marker(\n                [34.63283416, -120.6107455],\n                {\n}\n            ).addTo(marker_cluster_48d691d67956c99795905ceb1eb213f1);\n        \n    \n            var icon_2ff5030ef56264612334d66b0eca76c6 = L.AwesomeMarkers.icon(\n                {\n  &quot;markerColor&quot;: &quot;white&quot;,\n  &quot;iconColor&quot;: &quot;green&quot;,\n  &quot;icon&quot;: &quot;info-sign&quot;,\n  &quot;prefix&quot;: &quot;glyphicon&quot;,\n  &quot;extraClasses&quot;: &quot;fa-rotate-0&quot;,\n}\n            );\n        \n    \n                marker_2fb46fc7243e660e57e93af3216dd27c.setIcon(icon_2ff5030ef56264612334d66b0eca76c6);\n            \n    \n            var marker_4966f07a22e089eb0513b03d84df10dd = L.marker(\n                [34.63283416, -120.6107455],\n                {\n}\n            ).addTo(marker_cluster_48d691d67956c99795905ceb1eb213f1);\n        \n    \n            var icon_aa9a31a4ab6ff8921228265e7cb947f6 = L.AwesomeMarkers.icon(\n                {\n  &quot;markerColor&quot;: &quot;white&quot;,\n  &quot;iconColor&quot;: &quot;green&quot;,\n  &quot;icon&quot;: &quot;info-sign&quot;,\n  &quot;prefix&quot;: &quot;glyphicon&quot;,\n  &quot;extraClasses&quot;: &quot;fa-rotate-0&quot;,\n}\n            );\n        \n    \n                marker_4966f07a22e089eb0513b03d84df10dd.setIcon(icon_aa9a31a4ab6ff8921228265e7cb947f6);\n            \n    \n            var marker_424f1d3d76f13c4a007ae62ecb736bc7 = L.marker(\n                [34.63283416, -120.6107455],\n                {\n}\n            ).addTo(marker_cluster_48d691d67956c99795905ceb1eb213f1);\n        \n    \n            var icon_029d767943e1b25a8910d449d1eabc3c = L.AwesomeMarkers.icon(\n                {\n  &quot;markerColor&quot;: &quot;white&quot;,\n  &quot;iconColor&quot;: &quot;green&quot;,\n  &quot;icon&quot;: &quot;info-sign&quot;,\n  &quot;prefix&quot;: &quot;glyphicon&quot;,\n  &quot;extraClasses&quot;: &quot;fa-rotate-0&quot;,\n}\n            );\n        \n    \n                marker_424f1d3d76f13c4a007ae62ecb736bc7.setIcon(icon_029d767943e1b25a8910d449d1eabc3c);\n            \n    \n            var marker_813f7d12c8d7acc48b3e04b4d86cbe91 = L.marker(\n                [34.63283416, -120.6107455],\n                {\n}\n            ).addTo(marker_cluster_48d691d67956c99795905ceb1eb213f1);\n        \n    \n            var icon_317261f341739440ca0e35e6ef76fc2d = L.AwesomeMarkers.icon(\n                {\n  &quot;markerColor&quot;: &quot;white&quot;,\n  &quot;iconColor&quot;: &quot;red&quot;,\n  &quot;icon&quot;: &quot;info-sign&quot;,\n  &quot;prefix&quot;: &quot;glyphicon&quot;,\n  &quot;extraClasses&quot;: &quot;fa-rotate-0&quot;,\n}\n            );\n        \n    \n                marker_813f7d12c8d7acc48b3e04b4d86cbe91.setIcon(icon_317261f341739440ca0e35e6ef76fc2d);\n            \n    \n            var marker_143d750eb05ea53d81ee237696d7710c = L.marker(\n                [34.63283416, -120.6107455],\n                {\n}\n            ).addTo(marker_cluster_48d691d67956c99795905ceb1eb213f1);\n        \n    \n            var icon_60b0e5e4193de3f4d8fcf4339a5c9e28 = L.AwesomeMarkers.icon(\n                {\n  &quot;markerColor&quot;: &quot;white&quot;,\n  &quot;iconColor&quot;: &quot;red&quot;,\n  &quot;icon&quot;: &quot;info-sign&quot;,\n  &quot;prefix&quot;: &quot;glyphicon&quot;,\n  &quot;extraClasses&quot;: &quot;fa-rotate-0&quot;,\n}\n            );\n        \n    \n                marker_143d750eb05ea53d81ee237696d7710c.setIcon(icon_60b0e5e4193de3f4d8fcf4339a5c9e28);\n            \n    \n            var marker_6b4e9f5b28e04a4f834b28f44b93a135 = L.marker(\n                [34.63283416, -120.6107455],\n                {\n}\n            ).addTo(marker_cluster_48d691d67956c99795905ceb1eb213f1);\n        \n    \n            var icon_5ce9f9240b2590157df23ec1eae9829c = L.AwesomeMarkers.icon(\n                {\n  &quot;markerColor&quot;: &quot;white&quot;,\n  &quot;iconColor&quot;: &quot;red&quot;,\n  &quot;icon&quot;: &quot;info-sign&quot;,\n  &quot;prefix&quot;: &quot;glyphicon&quot;,\n  &quot;extraClasses&quot;: &quot;fa-rotate-0&quot;,\n}\n            );\n        \n    \n                marker_6b4e9f5b28e04a4f834b28f44b93a135.setIcon(icon_5ce9f9240b2590157df23ec1eae9829c);\n            \n    \n            var marker_3a197c733fc58bddfbf56a6cf0f5325f = L.marker(\n                [34.63283416, -120.6107455],\n                {\n}\n            ).addTo(marker_cluster_48d691d67956c99795905ceb1eb213f1);\n        \n    \n            var icon_29e5647899a119bbae97b885ae19f1d2 = L.AwesomeMarkers.icon(\n                {\n  &quot;markerColor&quot;: &quot;white&quot;,\n  &quot;iconColor&quot;: &quot;red&quot;,\n  &quot;icon&quot;: &quot;info-sign&quot;,\n  &quot;prefix&quot;: &quot;glyphicon&quot;,\n  &quot;extraClasses&quot;: &quot;fa-rotate-0&quot;,\n}\n            );\n        \n    \n                marker_3a197c733fc58bddfbf56a6cf0f5325f.setIcon(icon_29e5647899a119bbae97b885ae19f1d2);\n            \n    \n            var marker_0a1acfbcb86f2054accc56fb6e0b6402 = L.marker(\n                [28.57325457, -80.64689529],\n                {\n}\n            ).addTo(marker_cluster_48d691d67956c99795905ceb1eb213f1);\n        \n    \n            var icon_4cc4948e3af8d243c906cc1d6a71a2f9 = L.AwesomeMarkers.icon(\n                {\n  &quot;markerColor&quot;: &quot;white&quot;,\n  &quot;iconColor&quot;: &quot;green&quot;,\n  &quot;icon&quot;: &quot;info-sign&quot;,\n  &quot;prefix&quot;: &quot;glyphicon&quot;,\n  &quot;extraClasses&quot;: &quot;fa-rotate-0&quot;,\n}\n            );\n        \n    \n                marker_0a1acfbcb86f2054accc56fb6e0b6402.setIcon(icon_4cc4948e3af8d243c906cc1d6a71a2f9);\n            \n    \n            var marker_e4874311b2f068076852530673a77af8 = L.marker(\n                [28.57325457, -80.64689529],\n                {\n}\n            ).addTo(marker_cluster_48d691d67956c99795905ceb1eb213f1);\n        \n    \n            var icon_c1e10c7308b56752cca942af38453a63 = L.AwesomeMarkers.icon(\n                {\n  &quot;markerColor&quot;: &quot;white&quot;,\n  &quot;iconColor&quot;: &quot;red&quot;,\n  &quot;icon&quot;: &quot;info-sign&quot;,\n  &quot;prefix&quot;: &quot;glyphicon&quot;,\n  &quot;extraClasses&quot;: &quot;fa-rotate-0&quot;,\n}\n            );\n        \n    \n                marker_e4874311b2f068076852530673a77af8.setIcon(icon_c1e10c7308b56752cca942af38453a63);\n            \n    \n            var marker_c3d728bdf481defadcfef7df206210d9 = L.marker(\n                [28.57325457, -80.64689529],\n                {\n}\n            ).addTo(marker_cluster_48d691d67956c99795905ceb1eb213f1);\n        \n    \n            var icon_26341a1e4e2d5e215a6fb6410ac33b03 = L.AwesomeMarkers.icon(\n                {\n  &quot;markerColor&quot;: &quot;white&quot;,\n  &quot;iconColor&quot;: &quot;green&quot;,\n  &quot;icon&quot;: &quot;info-sign&quot;,\n  &quot;prefix&quot;: &quot;glyphicon&quot;,\n  &quot;extraClasses&quot;: &quot;fa-rotate-0&quot;,\n}\n            );\n        \n    \n                marker_c3d728bdf481defadcfef7df206210d9.setIcon(icon_26341a1e4e2d5e215a6fb6410ac33b03);\n            \n    \n            var marker_6e36dd57547d2913a1daf20133bbd341 = L.marker(\n                [28.57325457, -80.64689529],\n                {\n}\n            ).addTo(marker_cluster_48d691d67956c99795905ceb1eb213f1);\n        \n    \n            var icon_4126399f305f87512cad28b1eb09d553 = L.AwesomeMarkers.icon(\n                {\n  &quot;markerColor&quot;: &quot;white&quot;,\n  &quot;iconColor&quot;: &quot;green&quot;,\n  &quot;icon&quot;: &quot;info-sign&quot;,\n  &quot;prefix&quot;: &quot;glyphicon&quot;,\n  &quot;extraClasses&quot;: &quot;fa-rotate-0&quot;,\n}\n            );\n        \n    \n                marker_6e36dd57547d2913a1daf20133bbd341.setIcon(icon_4126399f305f87512cad28b1eb09d553);\n            \n    \n            var marker_a765943e71c4bc81aeebb70787cf479e = L.marker(\n                [28.57325457, -80.64689529],\n                {\n}\n            ).addTo(marker_cluster_48d691d67956c99795905ceb1eb213f1);\n        \n    \n            var icon_b847b4e78b932bc538c82cc360ab00de = L.AwesomeMarkers.icon(\n                {\n  &quot;markerColor&quot;: &quot;white&quot;,\n  &quot;iconColor&quot;: &quot;red&quot;,\n  &quot;icon&quot;: &quot;info-sign&quot;,\n  &quot;prefix&quot;: &quot;glyphicon&quot;,\n  &quot;extraClasses&quot;: &quot;fa-rotate-0&quot;,\n}\n            );\n        \n    \n                marker_a765943e71c4bc81aeebb70787cf479e.setIcon(icon_b847b4e78b932bc538c82cc360ab00de);\n            \n    \n            var marker_87995bf30c9bd0c824f8d8c71d4b4eb8 = L.marker(\n                [28.57325457, -80.64689529],\n                {\n}\n            ).addTo(marker_cluster_48d691d67956c99795905ceb1eb213f1);\n        \n    \n            var icon_36be617e5005eca1c9c0b1151d02e3a9 = L.AwesomeMarkers.icon(\n                {\n  &quot;markerColor&quot;: &quot;white&quot;,\n  &quot;iconColor&quot;: &quot;green&quot;,\n  &quot;icon&quot;: &quot;info-sign&quot;,\n  &quot;prefix&quot;: &quot;glyphicon&quot;,\n  &quot;extraClasses&quot;: &quot;fa-rotate-0&quot;,\n}\n            );\n        \n    \n                marker_87995bf30c9bd0c824f8d8c71d4b4eb8.setIcon(icon_36be617e5005eca1c9c0b1151d02e3a9);\n            \n    \n            var marker_0ac6cbb58f850a3d82e660ed4a355873 = L.marker(\n                [28.57325457, -80.64689529],\n                {\n}\n            ).addTo(marker_cluster_48d691d67956c99795905ceb1eb213f1);\n        \n    \n            var icon_4be86599796ee688cea3a0a351eff3a1 = L.AwesomeMarkers.icon(\n                {\n  &quot;markerColor&quot;: &quot;white&quot;,\n  &quot;iconColor&quot;: &quot;green&quot;,\n  &quot;icon&quot;: &quot;info-sign&quot;,\n  &quot;prefix&quot;: &quot;glyphicon&quot;,\n  &quot;extraClasses&quot;: &quot;fa-rotate-0&quot;,\n}\n            );\n        \n    \n                marker_0ac6cbb58f850a3d82e660ed4a355873.setIcon(icon_4be86599796ee688cea3a0a351eff3a1);\n            \n    \n            var marker_810c360ad75bbe726912f0b3e08ac419 = L.marker(\n                [28.57325457, -80.64689529],\n                {\n}\n            ).addTo(marker_cluster_48d691d67956c99795905ceb1eb213f1);\n        \n    \n            var icon_a382e89d662088087983f87ec706f1da = L.AwesomeMarkers.icon(\n                {\n  &quot;markerColor&quot;: &quot;white&quot;,\n  &quot;iconColor&quot;: &quot;red&quot;,\n  &quot;icon&quot;: &quot;info-sign&quot;,\n  &quot;prefix&quot;: &quot;glyphicon&quot;,\n  &quot;extraClasses&quot;: &quot;fa-rotate-0&quot;,\n}\n            );\n        \n    \n                marker_810c360ad75bbe726912f0b3e08ac419.setIcon(icon_a382e89d662088087983f87ec706f1da);\n            \n    \n            var marker_819fcabd4ea16e9a221b8ebd1af47bc1 = L.marker(\n                [28.57325457, -80.64689529],\n                {\n}\n            ).addTo(marker_cluster_48d691d67956c99795905ceb1eb213f1);\n        \n    \n            var icon_504085b28b427975e4de0e7a63ef466a = L.AwesomeMarkers.icon(\n                {\n  &quot;markerColor&quot;: &quot;white&quot;,\n  &quot;iconColor&quot;: &quot;green&quot;,\n  &quot;icon&quot;: &quot;info-sign&quot;,\n  &quot;prefix&quot;: &quot;glyphicon&quot;,\n  &quot;extraClasses&quot;: &quot;fa-rotate-0&quot;,\n}\n            );\n        \n    \n                marker_819fcabd4ea16e9a221b8ebd1af47bc1.setIcon(icon_504085b28b427975e4de0e7a63ef466a);\n            \n    \n            var marker_bc5c825f0d169c555c3faa6d88744ace = L.marker(\n                [28.57325457, -80.64689529],\n                {\n}\n            ).addTo(marker_cluster_48d691d67956c99795905ceb1eb213f1);\n        \n    \n            var icon_4f489a5148575e8d6b6385615fa2f6d0 = L.AwesomeMarkers.icon(\n                {\n  &quot;markerColor&quot;: &quot;white&quot;,\n  &quot;iconColor&quot;: &quot;green&quot;,\n  &quot;icon&quot;: &quot;info-sign&quot;,\n  &quot;prefix&quot;: &quot;glyphicon&quot;,\n  &quot;extraClasses&quot;: &quot;fa-rotate-0&quot;,\n}\n            );\n        \n    \n                marker_bc5c825f0d169c555c3faa6d88744ace.setIcon(icon_4f489a5148575e8d6b6385615fa2f6d0);\n            \n    \n            var marker_c07ed8d07e7f11c6a8365a47cc609776 = L.marker(\n                [28.57325457, -80.64689529],\n                {\n}\n            ).addTo(marker_cluster_48d691d67956c99795905ceb1eb213f1);\n        \n    \n            var icon_133a9532830adf1767f8fad9bef4f725 = L.AwesomeMarkers.icon(\n                {\n  &quot;markerColor&quot;: &quot;white&quot;,\n  &quot;iconColor&quot;: &quot;green&quot;,\n  &quot;icon&quot;: &quot;info-sign&quot;,\n  &quot;prefix&quot;: &quot;glyphicon&quot;,\n  &quot;extraClasses&quot;: &quot;fa-rotate-0&quot;,\n}\n            );\n        \n    \n                marker_c07ed8d07e7f11c6a8365a47cc609776.setIcon(icon_133a9532830adf1767f8fad9bef4f725);\n            \n    \n            var marker_20919d1ca9b7567f9d17a1389e733d00 = L.marker(\n                [28.57325457, -80.64689529],\n                {\n}\n            ).addTo(marker_cluster_48d691d67956c99795905ceb1eb213f1);\n        \n    \n            var icon_c1bb06c10a0e4f75928fb4b59eaec310 = L.AwesomeMarkers.icon(\n                {\n  &quot;markerColor&quot;: &quot;white&quot;,\n  &quot;iconColor&quot;: &quot;green&quot;,\n  &quot;icon&quot;: &quot;info-sign&quot;,\n  &quot;prefix&quot;: &quot;glyphicon&quot;,\n  &quot;extraClasses&quot;: &quot;fa-rotate-0&quot;,\n}\n            );\n        \n    \n                marker_20919d1ca9b7567f9d17a1389e733d00.setIcon(icon_c1bb06c10a0e4f75928fb4b59eaec310);\n            \n    \n            var marker_9bd839bf48f23cffdb892aec039d8c7b = L.marker(\n                [28.57325457, -80.64689529],\n                {\n}\n            ).addTo(marker_cluster_48d691d67956c99795905ceb1eb213f1);\n        \n    \n            var icon_a34fe63e3b08d5fac8dd4793651d5179 = L.AwesomeMarkers.icon(\n                {\n  &quot;markerColor&quot;: &quot;white&quot;,\n  &quot;iconColor&quot;: &quot;green&quot;,\n  &quot;icon&quot;: &quot;info-sign&quot;,\n  &quot;prefix&quot;: &quot;glyphicon&quot;,\n  &quot;extraClasses&quot;: &quot;fa-rotate-0&quot;,\n}\n            );\n        \n    \n                marker_9bd839bf48f23cffdb892aec039d8c7b.setIcon(icon_a34fe63e3b08d5fac8dd4793651d5179);\n            \n    \n            var marker_1d30a8e5df361bacd407b6bcbe2fd310 = L.marker(\n                [28.56319718, -80.57682003],\n                {\n}\n            ).addTo(marker_cluster_48d691d67956c99795905ceb1eb213f1);\n        \n    \n            var icon_20c0a8f55b0c718a525bcacdf6725362 = L.AwesomeMarkers.icon(\n                {\n  &quot;markerColor&quot;: &quot;white&quot;,\n  &quot;iconColor&quot;: &quot;green&quot;,\n  &quot;icon&quot;: &quot;info-sign&quot;,\n  &quot;prefix&quot;: &quot;glyphicon&quot;,\n  &quot;extraClasses&quot;: &quot;fa-rotate-0&quot;,\n}\n            );\n        \n    \n                marker_1d30a8e5df361bacd407b6bcbe2fd310.setIcon(icon_20c0a8f55b0c718a525bcacdf6725362);\n            \n    \n            var marker_ba4c6584f2d2d2e077eedc8f009882f2 = L.marker(\n                [28.56319718, -80.57682003],\n                {\n}\n            ).addTo(marker_cluster_48d691d67956c99795905ceb1eb213f1);\n        \n    \n            var icon_d8a1e3cf2bd50d6fde5dcd9a768c3440 = L.AwesomeMarkers.icon(\n                {\n  &quot;markerColor&quot;: &quot;white&quot;,\n  &quot;iconColor&quot;: &quot;green&quot;,\n  &quot;icon&quot;: &quot;info-sign&quot;,\n  &quot;prefix&quot;: &quot;glyphicon&quot;,\n  &quot;extraClasses&quot;: &quot;fa-rotate-0&quot;,\n}\n            );\n        \n    \n                marker_ba4c6584f2d2d2e077eedc8f009882f2.setIcon(icon_d8a1e3cf2bd50d6fde5dcd9a768c3440);\n            \n    \n            var marker_3501dd44b6857d3b9489b16545f99fd2 = L.marker(\n                [28.56319718, -80.57682003],\n                {\n}\n            ).addTo(marker_cluster_48d691d67956c99795905ceb1eb213f1);\n        \n    \n            var icon_deee1c286880aef364e2ff8a87da5a37 = L.AwesomeMarkers.icon(\n                {\n  &quot;markerColor&quot;: &quot;white&quot;,\n  &quot;iconColor&quot;: &quot;red&quot;,\n  &quot;icon&quot;: &quot;info-sign&quot;,\n  &quot;prefix&quot;: &quot;glyphicon&quot;,\n  &quot;extraClasses&quot;: &quot;fa-rotate-0&quot;,\n}\n            );\n        \n    \n                marker_3501dd44b6857d3b9489b16545f99fd2.setIcon(icon_deee1c286880aef364e2ff8a87da5a37);\n            \n    \n            var marker_affbedf757d06cc8856edba62b98abb7 = L.marker(\n                [28.56319718, -80.57682003],\n                {\n}\n            ).addTo(marker_cluster_48d691d67956c99795905ceb1eb213f1);\n        \n    \n            var icon_a9a54959282290f661822ab3460086b5 = L.AwesomeMarkers.icon(\n                {\n  &quot;markerColor&quot;: &quot;white&quot;,\n  &quot;iconColor&quot;: &quot;red&quot;,\n  &quot;icon&quot;: &quot;info-sign&quot;,\n  &quot;prefix&quot;: &quot;glyphicon&quot;,\n  &quot;extraClasses&quot;: &quot;fa-rotate-0&quot;,\n}\n            );\n        \n    \n                marker_affbedf757d06cc8856edba62b98abb7.setIcon(icon_a9a54959282290f661822ab3460086b5);\n            \n    \n            var marker_608655f9ab03ca6b8a603edd3fc32491 = L.marker(\n                [28.56319718, -80.57682003],\n                {\n}\n            ).addTo(marker_cluster_48d691d67956c99795905ceb1eb213f1);\n        \n    \n            var icon_6ece02986be1ee152a14b0345c791b45 = L.AwesomeMarkers.icon(\n                {\n  &quot;markerColor&quot;: &quot;white&quot;,\n  &quot;iconColor&quot;: &quot;red&quot;,\n  &quot;icon&quot;: &quot;info-sign&quot;,\n  &quot;prefix&quot;: &quot;glyphicon&quot;,\n  &quot;extraClasses&quot;: &quot;fa-rotate-0&quot;,\n}\n            );\n        \n    \n                marker_608655f9ab03ca6b8a603edd3fc32491.setIcon(icon_6ece02986be1ee152a14b0345c791b45);\n            \n    \n            var marker_1c76f52520469795402bff0d61d6c0dd = L.marker(\n                [28.56319718, -80.57682003],\n                {\n}\n            ).addTo(marker_cluster_48d691d67956c99795905ceb1eb213f1);\n        \n    \n            var icon_c479fa95eab4f3803de4ce07d96a936d = L.AwesomeMarkers.icon(\n                {\n  &quot;markerColor&quot;: &quot;white&quot;,\n  &quot;iconColor&quot;: &quot;green&quot;,\n  &quot;icon&quot;: &quot;info-sign&quot;,\n  &quot;prefix&quot;: &quot;glyphicon&quot;,\n  &quot;extraClasses&quot;: &quot;fa-rotate-0&quot;,\n}\n            );\n        \n    \n                marker_1c76f52520469795402bff0d61d6c0dd.setIcon(icon_c479fa95eab4f3803de4ce07d96a936d);\n            \n    \n            var marker_a3682c33831802b0ca8124984579a794 = L.marker(\n                [28.56319718, -80.57682003],\n                {\n}\n            ).addTo(marker_cluster_48d691d67956c99795905ceb1eb213f1);\n        \n    \n            var icon_1a35878e6e61b182bb6ee0aabd0edd4e = L.AwesomeMarkers.icon(\n                {\n  &quot;markerColor&quot;: &quot;white&quot;,\n  &quot;iconColor&quot;: &quot;red&quot;,\n  &quot;icon&quot;: &quot;info-sign&quot;,\n  &quot;prefix&quot;: &quot;glyphicon&quot;,\n  &quot;extraClasses&quot;: &quot;fa-rotate-0&quot;,\n}\n            );\n        \n    \n                marker_a3682c33831802b0ca8124984579a794.setIcon(icon_1a35878e6e61b182bb6ee0aabd0edd4e);\n            \n    \n            marker_cluster_48d691d67956c99795905ceb1eb213f1.addTo(map_0b6e7fcd452fff96bbcc5896ec6e8307);\n        \n&lt;/script&gt;\n&lt;/html&gt;\" style=\"position:absolute;width:100%;height:100%;left:0;top:0;border:none !important;\" allowfullscreen webkitallowfullscreen mozallowfullscreen></iframe></div></div>"
          },
          "metadata": {}
        }
      ],
      "execution_count": 11
    },
    {
      "cell_type": "markdown",
      "source": "Next, let's try to enhance the map by adding the launch outcomes for each site, and see which sites have high success rates.\nRecall that data frame spacex_df has detailed launch records, and the `class` column indicates if this launch was successful or not\n",
      "metadata": {}
    },
    {
      "cell_type": "code",
      "source": "spacex_df.tail(10)",
      "metadata": {
        "trusted": true
      },
      "outputs": [
        {
          "execution_count": 12,
          "output_type": "execute_result",
          "data": {
            "text/plain": "     Launch Site        Lat       Long  class marker_color\n46    KSC LC-39A  28.573255 -80.646895      1        green\n47    KSC LC-39A  28.573255 -80.646895      1        green\n48    KSC LC-39A  28.573255 -80.646895      1        green\n49  CCAFS SLC-40  28.563197 -80.576820      1        green\n50  CCAFS SLC-40  28.563197 -80.576820      1        green\n51  CCAFS SLC-40  28.563197 -80.576820      0          red\n52  CCAFS SLC-40  28.563197 -80.576820      0          red\n53  CCAFS SLC-40  28.563197 -80.576820      0          red\n54  CCAFS SLC-40  28.563197 -80.576820      1        green\n55  CCAFS SLC-40  28.563197 -80.576820      0          red",
            "text/html": "<div>\n<style scoped>\n    .dataframe tbody tr th:only-of-type {\n        vertical-align: middle;\n    }\n\n    .dataframe tbody tr th {\n        vertical-align: top;\n    }\n\n    .dataframe thead th {\n        text-align: right;\n    }\n</style>\n<table border=\"1\" class=\"dataframe\">\n  <thead>\n    <tr style=\"text-align: right;\">\n      <th></th>\n      <th>Launch Site</th>\n      <th>Lat</th>\n      <th>Long</th>\n      <th>class</th>\n      <th>marker_color</th>\n    </tr>\n  </thead>\n  <tbody>\n    <tr>\n      <th>46</th>\n      <td>KSC LC-39A</td>\n      <td>28.573255</td>\n      <td>-80.646895</td>\n      <td>1</td>\n      <td>green</td>\n    </tr>\n    <tr>\n      <th>47</th>\n      <td>KSC LC-39A</td>\n      <td>28.573255</td>\n      <td>-80.646895</td>\n      <td>1</td>\n      <td>green</td>\n    </tr>\n    <tr>\n      <th>48</th>\n      <td>KSC LC-39A</td>\n      <td>28.573255</td>\n      <td>-80.646895</td>\n      <td>1</td>\n      <td>green</td>\n    </tr>\n    <tr>\n      <th>49</th>\n      <td>CCAFS SLC-40</td>\n      <td>28.563197</td>\n      <td>-80.576820</td>\n      <td>1</td>\n      <td>green</td>\n    </tr>\n    <tr>\n      <th>50</th>\n      <td>CCAFS SLC-40</td>\n      <td>28.563197</td>\n      <td>-80.576820</td>\n      <td>1</td>\n      <td>green</td>\n    </tr>\n    <tr>\n      <th>51</th>\n      <td>CCAFS SLC-40</td>\n      <td>28.563197</td>\n      <td>-80.576820</td>\n      <td>0</td>\n      <td>red</td>\n    </tr>\n    <tr>\n      <th>52</th>\n      <td>CCAFS SLC-40</td>\n      <td>28.563197</td>\n      <td>-80.576820</td>\n      <td>0</td>\n      <td>red</td>\n    </tr>\n    <tr>\n      <th>53</th>\n      <td>CCAFS SLC-40</td>\n      <td>28.563197</td>\n      <td>-80.576820</td>\n      <td>0</td>\n      <td>red</td>\n    </tr>\n    <tr>\n      <th>54</th>\n      <td>CCAFS SLC-40</td>\n      <td>28.563197</td>\n      <td>-80.576820</td>\n      <td>1</td>\n      <td>green</td>\n    </tr>\n    <tr>\n      <th>55</th>\n      <td>CCAFS SLC-40</td>\n      <td>28.563197</td>\n      <td>-80.576820</td>\n      <td>0</td>\n      <td>red</td>\n    </tr>\n  </tbody>\n</table>\n</div>"
          },
          "metadata": {}
        }
      ],
      "execution_count": 12
    },
    {
      "cell_type": "markdown",
      "source": "Next, let's create markers for all launch records.\nIf a launch was successful `(class=1)`, then we use a green marker and if a launch was failed, we use a red marker `(class=0)`\n",
      "metadata": {}
    },
    {
      "cell_type": "markdown",
      "source": "Note that a launch only happens in one of the four launch sites, which means many launch records will have the exact same coordinate. Marker clusters can be a good way to simplify a map containing many markers having the same coordinate.\n",
      "metadata": {}
    },
    {
      "cell_type": "markdown",
      "source": "Let's first create a `MarkerCluster` object\n",
      "metadata": {}
    },
    {
      "cell_type": "code",
      "source": "marker_cluster = MarkerCluster()\n",
      "metadata": {
        "trusted": true
      },
      "outputs": [],
      "execution_count": 13
    },
    {
      "cell_type": "markdown",
      "source": "*TODO:* Create a new column in `spacex_df` dataframe called `marker_color` to store the marker colors based on the `class` value\n",
      "metadata": {}
    },
    {
      "cell_type": "code",
      "source": "\n# Apply a function to check the value of `class` column\n# If class=1, marker_color value will be green\n# If class=0, marker_color value will be red",
      "metadata": {},
      "outputs": [],
      "execution_count": null
    },
    {
      "cell_type": "markdown",
      "source": "*TODO:* For each launch result in `spacex_df` data frame, add a `folium.Marker` to `marker_cluster`\n",
      "metadata": {}
    },
    {
      "cell_type": "code",
      "source": "# Add marker_cluster to current site_map\nsite_map.add_child(marker_cluster)\n\n# for each row in spacex_df data frame\n# create a Marker object with its coordinate\n# and customize the Marker's icon property to indicate if this launch was successed or failed, \n# e.g., icon=folium.Icon(color='white', icon_color=row['marker_color']\nfor index, record in spacex_df.iterrows():\n    # TODO: Create and add a Marker cluster to the site map\n    # marker = folium.Marker(...)\n    marker_cluster.add_child(marker)\n\nsite_map",
      "metadata": {},
      "outputs": [],
      "execution_count": null
    },
    {
      "cell_type": "markdown",
      "source": "Your updated map may look like the following screenshots:\n",
      "metadata": {}
    },
    {
      "cell_type": "markdown",
      "source": "<center>\n    <img src=\"https://cf-courses-data.s3.us.cloud-object-storage.appdomain.cloud/IBM-DS0321EN-SkillsNetwork/labs/module_3/images/launch_site_marker_cluster.png\">\n</center>\n",
      "metadata": {}
    },
    {
      "cell_type": "markdown",
      "source": "<center>\n    <img src=\"https://cf-courses-data.s3.us.cloud-object-storage.appdomain.cloud/IBM-DS0321EN-SkillsNetwork/labs/module_3/images/launch_site_marker_cluster_zoomed.png\">\n</center>\n",
      "metadata": {}
    },
    {
      "cell_type": "markdown",
      "source": "From the color-labeled markers in marker clusters, you should be able to easily identify which launch sites have relatively high success rates.\n",
      "metadata": {}
    },
    {
      "cell_type": "code",
      "source": "# TASK 3: Calculate the distances between a launch site to its proximities\nsite_map = folium.Map(location=[launch_site_lat, launch_site_lon], zoom_start=10)\n\n# Create a distance marker\ncoordinate = [launch_site_lat, launch_site_lon]\ndistance_marker = folium.Marker(\n   coordinate,\n   icon=DivIcon(\n       icon_size=(20, 20),\n       icon_anchor=(0, 0),\n       html='<div style=\"font-size: 12; color:#d35400;\"><b>%s</b></div>' % \"{:10.2f} KM\".format(distance_city),\n   )\n)\n\n# Add distance marker to the map\nsite_map.add_child(distance_marker)\n\n# Create coordinates for lines\ncoordinates = [[launch_site_lat, launch_site_lon], [city_lat, city_lon]]\n\n# Create a PolyLine for lines\nlines = folium.PolyLine(locations=coordinates, weight=5)\n\n# Add PolyLine to the map\nsite_map.add_child(lines)\n\n# Save the map as an HTML file\nsite_map.save(\"map_with_markers.html\")",
      "metadata": {
        "trusted": true
      },
      "outputs": [
        {
          "ename": "<class 'NameError'>",
          "evalue": "name 'launch_site_lat' is not defined",
          "traceback": [
            "\u001b[0;31m---------------------------------------------------------------------------\u001b[0m",
            "\u001b[0;31mNameError\u001b[0m                                 Traceback (most recent call last)",
            "Cell \u001b[0;32mIn[14], line 2\u001b[0m\n\u001b[1;32m      1\u001b[0m \u001b[38;5;66;03m# TASK 3: Calculate the distances between a launch site to its proximities\u001b[39;00m\n\u001b[0;32m----> 2\u001b[0m site_map \u001b[38;5;241m=\u001b[39m folium\u001b[38;5;241m.\u001b[39mMap(location\u001b[38;5;241m=\u001b[39m[\u001b[43mlaunch_site_lat\u001b[49m, launch_site_lon], zoom_start\u001b[38;5;241m=\u001b[39m\u001b[38;5;241m10\u001b[39m)\n\u001b[1;32m      4\u001b[0m \u001b[38;5;66;03m# Create a distance marker\u001b[39;00m\n\u001b[1;32m      5\u001b[0m coordinate \u001b[38;5;241m=\u001b[39m [launch_site_lat, launch_site_lon]\n",
            "\u001b[0;31mNameError\u001b[0m: name 'launch_site_lat' is not defined"
          ],
          "output_type": "error"
        }
      ],
      "execution_count": 14
    },
    {
      "cell_type": "markdown",
      "source": "Next, we need to explore and analyze the proximities of launch sites.\n",
      "metadata": {}
    },
    {
      "cell_type": "markdown",
      "source": "Let's first add a `MousePosition` on the map to get coordinate for a mouse over a point on the map. As such, while you are exploring the map, you can easily find the coordinates of any points of interests (such as railway)\n",
      "metadata": {}
    },
    {
      "cell_type": "code",
      "source": "# Add Mouse Position to get the coordinate (Lat, Long) for a mouse over on the map\nformatter = \"function(num) {return L.Util.formatNum(num, 5);};\"\nmouse_position = MousePosition(\n    position='topright',\n    separator=' Long: ',\n    empty_string='NaN',\n    lng_first=False,\n    num_digits=20,\n    prefix='Lat:',\n    lat_formatter=formatter,\n    lng_formatter=formatter,\n)\n\nsite_map.add_child(mouse_position)\nsite_map",
      "metadata": {},
      "outputs": [],
      "execution_count": null
    },
    {
      "cell_type": "markdown",
      "source": "Now zoom in to a launch site and explore its proximity to see if you can easily find any railway, highway, coastline, etc. Move your mouse to these points and mark down their coordinates (shown on the top-left) in order to the distance to the launch site.\n",
      "metadata": {}
    },
    {
      "cell_type": "markdown",
      "source": "Now zoom in to a launch site and explore its proximity to see if you can easily find any railway, highway, coastline, etc. Move your mouse to these points and mark down their coordinates (shown on the top-left) in order to the distance to the launch site.\n",
      "metadata": {}
    },
    {
      "cell_type": "code",
      "source": "from math import sin, cos, sqrt, atan2, radians\n\ndef calculate_distance(lat1, lon1, lat2, lon2):\n    # approximate radius of earth in km\n    R = 6373.0\n\n    lat1 = radians(lat1)\n    lon1 = radians(lon1)\n    lat2 = radians(lat2)\n    lon2 = radians(lon2)\n\n    dlon = lon2 - lon1\n    dlat = lat2 - lat1\n\n    a = sin(dlat / 2)**2 + cos(lat1) * cos(lat2) * sin(dlon / 2)**2\n    c = 2 * atan2(sqrt(a), sqrt(1 - a))\n\n    distance = R * c\n    return distance",
      "metadata": {},
      "outputs": [],
      "execution_count": null
    },
    {
      "cell_type": "markdown",
      "source": "*TODO:* Mark down a point on the closest coastline using MousePosition and calculate the distance between the coastline point and the launch site.\n",
      "metadata": {}
    },
    {
      "cell_type": "code",
      "source": "# find coordinate of the closet coastline\n# e.g.,: Lat: 28.56367  Lon: -80.57163\n# distance_coastline = calculate_distance(launch_site_lat, launch_site_lon, coastline_lat, coastline_lon)",
      "metadata": {},
      "outputs": [],
      "execution_count": null
    },
    {
      "cell_type": "code",
      "source": "# Create and add a folium.Marker on your selected closest coastline point on the map\n# Display the distance between coastline point and launch site using the icon property \n# for example\n# distance_marker = folium.Marker(\n#    coordinate,\n#    icon=DivIcon(\n#        icon_size=(20,20),\n#        icon_anchor=(0,0),\n#        html='<div style=\"font-size: 12; color:#d35400;\"><b>%s</b></div>' % \"{:10.2f} KM\".format(distance),\n#        )\n#    )",
      "metadata": {},
      "outputs": [],
      "execution_count": null
    },
    {
      "cell_type": "markdown",
      "source": "*TODO:* Draw a `PolyLine` between a launch site to the selected coastline point\n",
      "metadata": {}
    },
    {
      "cell_type": "code",
      "source": "# Create a `folium.PolyLine` object using the coastline coordinates and launch site coordinate\n# lines=folium.PolyLine(locations=coordinates, weight=1)\nsite_map.add_child(lines)",
      "metadata": {},
      "outputs": [],
      "execution_count": null
    },
    {
      "cell_type": "markdown",
      "source": "Your updated map with distance line should look like the following screenshot:\n",
      "metadata": {}
    },
    {
      "cell_type": "markdown",
      "source": "<center>\n    <img src=\"https://cf-courses-data.s3.us.cloud-object-storage.appdomain.cloud/IBM-DS0321EN-SkillsNetwork/labs/module_3/images/launch_site_marker_distance.png\">\n</center>\n",
      "metadata": {}
    },
    {
      "cell_type": "markdown",
      "source": "*TODO:* Similarly, you can draw a line betwee a launch site to its closest city, railway, highway, etc. You need to use `MousePosition` to find the their coordinates on the map first\n",
      "metadata": {}
    },
    {
      "cell_type": "markdown",
      "source": "A railway map symbol may look like this:\n",
      "metadata": {}
    },
    {
      "cell_type": "markdown",
      "source": "<center>\n    <img src=\"https://cf-courses-data.s3.us.cloud-object-storage.appdomain.cloud/IBM-DS0321EN-SkillsNetwork/labs/module_3/images/railway.png\">\n</center>\n",
      "metadata": {}
    },
    {
      "cell_type": "markdown",
      "source": "A highway map symbol may look like this:\n",
      "metadata": {}
    },
    {
      "cell_type": "markdown",
      "source": "<center>\n    <img src=\"https://cf-courses-data.s3.us.cloud-object-storage.appdomain.cloud/IBM-DS0321EN-SkillsNetwork/labs/module_3/images/highway.png\">\n</center>\n",
      "metadata": {}
    },
    {
      "cell_type": "markdown",
      "source": "A city map symbol may look like this:\n",
      "metadata": {}
    },
    {
      "cell_type": "markdown",
      "source": "<center>\n    <img src=\"https://cf-courses-data.s3.us.cloud-object-storage.appdomain.cloud/IBM-DS0321EN-SkillsNetwork/labs/module_3/images/city.png\">\n</center>\n",
      "metadata": {}
    },
    {
      "cell_type": "code",
      "source": "# Create a marker with distance to a closest city, railway, highway, etc.\n# Draw a line between the marker to the launch site\n",
      "metadata": {},
      "outputs": [],
      "execution_count": null
    },
    {
      "cell_type": "code",
      "source": "",
      "metadata": {},
      "outputs": [],
      "execution_count": null
    },
    {
      "cell_type": "code",
      "source": "",
      "metadata": {},
      "outputs": [],
      "execution_count": null
    },
    {
      "cell_type": "markdown",
      "source": "After you plot distance lines to the proximities, you can answer the following questions easily:\n\n*   Are launch sites in close proximity to railways?\n*   Are launch sites in close proximity to highways?\n*   Are launch sites in close proximity to coastline?\n*   Do launch sites keep certain distance away from cities?\n\nAlso please try to explain your findings.\n",
      "metadata": {}
    },
    {
      "cell_type": "markdown",
      "source": "# Next Steps:\n\nNow you have discovered many interesting insights related to the launch sites' location using folium, in a very interactive way. Next, you will need to build a dashboard using Ploty Dash on detailed launch records.\n",
      "metadata": {}
    },
    {
      "cell_type": "markdown",
      "source": "## Authors\n",
      "metadata": {}
    },
    {
      "cell_type": "markdown",
      "source": "[Pratiksha Verma](https://www.linkedin.com/in/pratiksha-verma-6487561b1/)\n",
      "metadata": {}
    },
    {
      "cell_type": "markdown",
      "source": "<!--## Change Log--!>\n",
      "metadata": {}
    },
    {
      "cell_type": "markdown",
      "source": "<!--| Date (YYYY-MM-DD) | Version | Changed By      | Change Description      |\n| ----------------- | ------- | -------------   | ----------------------- |\n| 2022-11-09        | 1.0     | Pratiksha Verma | Converted initial version to Jupyterlite|--!>\n",
      "metadata": {}
    },
    {
      "cell_type": "markdown",
      "source": "### <h3 align=\"center\"> IBM Corporation 2022. All rights reserved. <h3/>\n",
      "metadata": {}
    }
  ]
}